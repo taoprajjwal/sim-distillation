{
 "cells": [
  {
   "cell_type": "code",
   "execution_count": 2,
   "id": "cf21f885-3871-4d11-8e6f-c00835bd2e92",
   "metadata": {
    "editable": true,
    "slideshow": {
     "slide_type": ""
    },
    "tags": []
   },
   "outputs": [
    {
     "name": "stderr",
     "output_type": "stream",
     "text": [
      "/home/pb2276/.conda/envs/gpu/lib/python3.10/site-packages/tqdm/auto.py:21: TqdmWarning: IProgress not found. Please update jupyter and ipywidgets. See https://ipywidgets.readthedocs.io/en/stable/user_install.html\n",
      "  from .autonotebook import tqdm as notebook_tqdm\n"
     ]
    }
   ],
   "source": [
    "from transformers import (\n",
    "    AutoModelForSequenceClassification,\n",
    "    AutoTokenizer,\n",
    "    AutoConfig,\n",
    "    TrainingArguments,\n",
    "    Trainer,PretrainedConfig,\n",
    "    DataCollatorWithPadding,\n",
    "    default_data_collator\n",
    "\n",
    ")\n",
    "from datasets import load_dataset\n",
    "import evaluate\n",
    "from distillation import DistilModel"
   ]
  },
  {
   "cell_type": "code",
   "execution_count": 4,
   "id": "edb43241-c5e8-4847-be39-2a6b62fbe0c7",
   "metadata": {},
   "outputs": [],
   "source": [
    "teacher=AutoModelForSequenceClassification.from_pretrained(\"/scratch/pb2276/GLUE-pretrain/out_p2_l/mrpc\")"
   ]
  },
  {
   "cell_type": "code",
   "execution_count": null,
   "id": "328af891-277b-4dea-8c2e-01ee87753a37",
   "metadata": {},
   "outputs": [],
   "source": [
    "teacher"
   ]
  },
  {
   "cell_type": "code",
   "execution_count": 1,
   "id": "e1183ce3-19d9-4e1a-a22b-a499292174da",
   "metadata": {},
   "outputs": [],
   "source": [
    "import torch"
   ]
  },
  {
   "cell_type": "code",
   "execution_count": 11,
   "id": "12f7360f-829f-4867-8e39-b72eaa084539",
   "metadata": {},
   "outputs": [],
   "source": [
    "device=torch.device(\"cuda\")"
   ]
  },
  {
   "cell_type": "code",
   "execution_count": 57,
   "id": "40d4bd15-f5d6-469f-a54b-162c11d230fa",
   "metadata": {},
   "outputs": [],
   "source": [
    "wx=torch.rand((12,128, 1024)).to(device).requires_grad_()"
   ]
  },
  {
   "cell_type": "code",
   "execution_count": 58,
   "id": "59c9ea21-06be-4e34-9e48-c40cc59857dc",
   "metadata": {},
   "outputs": [],
   "source": [
    "wy= torch.rand((12,128,1024)).to(device).requires_grad_()"
   ]
  },
  {
   "cell_type": "code",
   "execution_count": 50,
   "id": "e4365ac3-6545-4939-8395-7bde223edf95",
   "metadata": {},
   "outputs": [],
   "source": [
    "wxy = torch.bmm(wx.transpose(1, 2), wy)"
   ]
  },
  {
   "cell_type": "code",
   "execution_count": 42,
   "id": "7db563f0-5a52-4fab-b77a-23404d6759cc",
   "metadata": {},
   "outputs": [
    {
     "data": {
      "text/plain": [
       "torch.Size([12, 1024, 1024])"
      ]
     },
     "execution_count": 42,
     "metadata": {},
     "output_type": "execute_result"
    }
   ],
   "source": [
    "wxy.shape"
   ]
  },
  {
   "cell_type": "code",
   "execution_count": 51,
   "id": "37fdffda-e33f-4f99-8bdc-5c48ece1f885",
   "metadata": {},
   "outputs": [],
   "source": [
    "with torch.no_grad():\n",
    "    wxy = torch.bmm(wx.transpose(1, 2), wy)\n",
    "    U, _, Vt = torch.linalg.svd(wxy,driver=\"gesvd\")"
   ]
  },
  {
   "cell_type": "code",
   "execution_count": 52,
   "id": "8cc6c255-3ecd-4fee-ae89-5078a4bf57f6",
   "metadata": {},
   "outputs": [],
   "source": [
    "loss=torch.linalg.norm( torch.bmm(wx, U) - torch.bmm(wy, Vt.transpose(1,2)), ord=\"fro\", dim=(1, 2))"
   ]
  },
  {
   "cell_type": "code",
   "execution_count": 53,
   "id": "1834e52b-158d-4ba0-807f-7d19ebbf967f",
   "metadata": {},
   "outputs": [],
   "source": [
    "loss.mean().backward()"
   ]
  },
  {
   "cell_type": "code",
   "execution_count": 54,
   "id": "6a0e37b9-2c55-4800-91da-b60d086c5aac",
   "metadata": {},
   "outputs": [
    {
     "data": {
      "text/plain": [
       "True"
      ]
     },
     "execution_count": 54,
     "metadata": {},
     "output_type": "execute_result"
    }
   ],
   "source": [
    "wx.is_leaf"
   ]
  },
  {
   "cell_type": "code",
   "execution_count": 59,
   "id": "779d1132-7cc5-4f4d-9d8a-c924334a4c31",
   "metadata": {},
   "outputs": [],
   "source": [
    "wx.grad"
   ]
  },
  {
   "cell_type": "code",
   "execution_count": null,
   "id": "494bf914-5221-4dfb-be88-3aa5a2663795",
   "metadata": {},
   "outputs": [],
   "source": []
  },
  {
   "cell_type": "markdown",
   "id": "6eaf7a67-f1be-47c7-a234-10855dda7bc2",
   "metadata": {},
   "source": [
    "# CKA"
   ]
  },
  {
   "cell_type": "code",
   "execution_count": 1,
   "id": "61871ebf-f8ef-45fc-a7af-5018e0b22c9c",
   "metadata": {},
   "outputs": [],
   "source": [
    "import torch\n",
    "from torch import Tensor\n",
    "from torch.nn.functional import pad\n",
    "\n",
    "from typing import Literal, Tuple, Optional, List\n"
   ]
  },
  {
   "cell_type": "code",
   "execution_count": 40,
   "id": "bfc684c8-af3a-4f1f-a64f-67122c0e25b0",
   "metadata": {},
   "outputs": [],
   "source": [
    "r1=torch.rand((20, 128,1024))"
   ]
  },
  {
   "cell_type": "code",
   "execution_count": 41,
   "id": "eae82554-bf3a-4fd3-8509-b125e44e4928",
   "metadata": {},
   "outputs": [],
   "source": [
    "r2=torch.rand((20,128,1024))"
   ]
  },
  {
   "cell_type": "code",
   "execution_count": 23,
   "id": "f3d845ea-45c5-42c5-b8cf-ce9b1b393cbd",
   "metadata": {},
   "outputs": [],
   "source": [
    "r2_sim= torch.bmm(r2, torch.transpose(r2, 1, 2)) "
   ]
  },
  {
   "cell_type": "code",
   "execution_count": 8,
   "id": "4e3cb93e-56c3-42e3-b587-9c4f534c0607",
   "metadata": {},
   "outputs": [],
   "source": [
    "r1_sim=r1@r1.T\n",
    "r2_sim=r2@r2.T"
   ]
  },
  {
   "cell_type": "code",
   "execution_count": null,
   "id": "72f1c9e2-14e7-45cc-9e7c-c884cccf8340",
   "metadata": {},
   "outputs": [],
   "source": [
    "128*128 == 128"
   ]
  },
  {
   "cell_type": "code",
   "execution_count": null,
   "id": "cb7daa67-6a8e-4486-8341-c6fc9035dde6",
   "metadata": {},
   "outputs": [],
   "source": [
    "torch.bmm(r1, r1.T)"
   ]
  },
  {
   "cell_type": "code",
   "execution_count": 15,
   "id": "e8ace658-69bc-46f3-a88f-473f765d2ccf",
   "metadata": {},
   "outputs": [],
   "source": [
    "mask=torch.eye(r1_sim.shape[-1], dtype=torch.bool).unsqueeze(0)"
   ]
  },
  {
   "cell_type": "code",
   "execution_count": 22,
   "id": "af258a7c-a49a-4e90-9074-739fd5fac342",
   "metadata": {},
   "outputs": [
    {
     "data": {
      "text/plain": [
       "torch.Size([2560, 2560])"
      ]
     },
     "execution_count": 22,
     "metadata": {},
     "output_type": "execute_result"
    }
   ],
   "source": [
    "r1_sim.masked_fill_(mask[0], 0).shape"
   ]
  },
  {
   "cell_type": "code",
   "execution_count": 27,
   "id": "7474b985-c175-4f8d-a5c2-f4214c7c2035",
   "metadata": {},
   "outputs": [],
   "source": [
    "kl=r1_sim@r2_sim"
   ]
  },
  {
   "cell_type": "code",
   "execution_count": 30,
   "id": "a51f9aa6-0faa-4162-b98d-8279fc2d79e0",
   "metadata": {},
   "outputs": [
    {
     "data": {
      "text/plain": [
       "tensor(4.2904e+11)"
      ]
     },
     "execution_count": 30,
     "metadata": {},
     "output_type": "execute_result"
    }
   ],
   "source": [
    "kl.diagonal().sum()"
   ]
  },
  {
   "cell_type": "code",
   "execution_count": 31,
   "id": "5650bf55-357d-43b9-8ff3-427898805ca1",
   "metadata": {},
   "outputs": [
    {
     "data": {
      "text/plain": [
       "tensor(1.6763e+09)"
      ]
     },
     "execution_count": 31,
     "metadata": {},
     "output_type": "execute_result"
    }
   ],
   "source": [
    "r1_sim.sum()"
   ]
  },
  {
   "cell_type": "code",
   "execution_count": 10,
   "id": "22aa333c-1bca-4627-80af-6132b3fd8d21",
   "metadata": {},
   "outputs": [
    {
     "data": {
      "text/plain": [
       "torch.Size([20, 128])"
      ]
     },
     "execution_count": 10,
     "metadata": {},
     "output_type": "execute_result"
    }
   ],
   "source": [
    "r1.diagonal(dim1=1, dim2=2).shape"
   ]
  },
  {
   "cell_type": "code",
   "execution_count": null,
   "id": "9aadf9e9-54a4-4c7b-8b08-f0700fead958",
   "metadata": {},
   "outputs": [],
   "source": [
    "def hsic(K,L):\n",
    "    \"\"\"MiniBatch CKA using unbiased estimator of HSIC from Song et al 2012 (https://www.jmlr.org/papers/volume13/song12a/song12a.pdf)\"\"\"\n",
    "    kl=torch.bmm(K,L)\n",
    "    \n",
    "    "
   ]
  },
  {
   "cell_type": "code",
   "execution_count": 44,
   "id": "c205700a-fdc3-4b38-8c46-400bccb01d3f",
   "metadata": {},
   "outputs": [],
   "source": [
    "import torch\n",
    "from torch import Tensor\n",
    "from torch.nn.functional import pad\n",
    "\n",
    "from typing import Literal, Tuple, Optional, List\n",
    "import random\n",
    "\n",
    "class CKA(torch.nn.Module):\n",
    "    def __init__(self,dim_matching='zero_pad', reduction='mean', kernel=\"linear\", similarity_token_strategy=\"flatten\"):\n",
    "        super(CKA, self).__init__()\n",
    "        assert dim_matching in [None, 'none', 'zero_pad', 'pca']\n",
    "        self.dim_matching = dim_matching\n",
    "        self.reduction = reduction\n",
    "        self.kernel=kernel\n",
    "        self.similarity_token_strategy=similarity_token_strategy\n",
    "        self.random_tokens=None\n",
    "\n",
    "\n",
    "    def generate_random_token_index(self, token_size, selected_size=10):\n",
    "        self.random_tokens = random.sample(range(token_size),selected_size) \n",
    "    \n",
    "    def create_sim_matrix(self, X:Tensor, diag_zero=True):\n",
    "        if self.similarity_token_strategy ==\"flatten\":\n",
    "            X=torch.flatten(X, end_dim=-2)\n",
    "        elif self.similarity_token_strategy==\"random\":\n",
    "            if not self.random_tokens:\n",
    "                self.generate_random_token_index(X.shape[1])\n",
    "            X=torch.fatten(X[:, self.random_tokens, :], end_dim=-2)\n",
    "            \n",
    "        \"\"\"Similarity matrix\"\"\"\n",
    "        if self.kernel == \"linear\":\n",
    "            sim_m = X@ X.T\n",
    "        else:\n",
    "            raise NotImplementedError\n",
    "\n",
    "        if diag_zero:\n",
    "            diagonal_mask = torch.eye(sim_m.shape[-1], dtype=torch.bool).unsqueeze(0)\n",
    "\n",
    "            #has a batch dimension\n",
    "            if len(sim_m.shape)>2:\n",
    "                sim_m.masked_fill_(diagonal_mask, 0)\n",
    "            else:\n",
    "                sim_m.masked_fill_(diagonal_mask[0], 0)\n",
    "        \n",
    "        return sim_m\n",
    "\n",
    "\n",
    "    def HSIC(self, K,L):\n",
    "        \"\"\" K, L are similarity matrices of form (B,N,N) where B is batch or (N,N)\n",
    "        \"\"\"\n",
    "        n=K.shape[-1]\n",
    "        if len(K.shape)==3:\n",
    "            pass\n",
    "            #TODO: IMPLEMENT BATCHED CKA\n",
    "            \"\"\"\n",
    "            kl=torch.bmm(K,L)\"\"\"\n",
    "            \n",
    "        else:\n",
    "            kl=K@L\n",
    "            trace=kl.diagonal().sum()\n",
    "            middle=(K.sum()*L.sum())/((n-1)*(n-2))\n",
    "            last= -2*kl.sum()/(n-2)\n",
    "            return (trace+middle+last)/(n*(n-3))\n",
    "\n",
    "\n",
    "    def forward(self, X: Tensor, Y: Tensor):\n",
    "        if X.shape[:-1] != Y.shape[:-1] or X.ndim != 3 or Y.ndim != 3:\n",
    "            raise ValueError('Expected 3D input matrices to match in all dimensions but last.'\n",
    "                             f'But got {X.shape} and {Y.shape} instead.')\n",
    "\n",
    "        if X.shape[-1] != Y.shape[-1]:\n",
    "            if self.dim_matching is None or self.dim_matching == 'none':\n",
    "                raise ValueError(f'Expected same dimension matrices got instead {X.shape} and {Y.shape}. '\n",
    "                                 f'Set dim_matching or change matrix dimensions.')\n",
    "            elif self.dim_matching == 'zero_pad':\n",
    "                size_diff = Y.shape[-1] - X.shape[-1]\n",
    "                if size_diff < 0:\n",
    "                    raise ValueError(f'With `zero_pad` dimension matching expected X dimension to be smaller then Y. '\n",
    "                                     f'But got {X.shape} and {Y.shape} instead.')\n",
    "                X = pad(X, (0, size_diff))\n",
    "            elif self.dim_matching == 'pca':\n",
    "                raise NotImplementedError\n",
    "            else:\n",
    "                raise ValueError(f'Unrecognized dimension matching {self.dim_matching}')\n",
    "\n",
    "        X_sim_matrix = self.create_sim_matrix(X)\n",
    "        Y_sim_matrix = self.create_sim_matrix(Y)\n",
    "\n",
    "        self_hsic_x=self.HSIC(X_sim_matrix, X_sim_matrix)\n",
    "        self_hsic_y= self.HSIC(Y_sim_matrix, Y_sim_matrix)\n",
    "        cross_hsic=self.HSIC(X_sim_matrix, Y_sim_matrix)\n",
    "        \n",
    "        batched_cka = cross_hsic/ (torch.sqrt(self_hsic_x) * torch.sqrt(self_hsic_y))\n",
    "            \n",
    "        if self.reduction == 'mean':\n",
    "            return batched_cka.mean()\n",
    "        elif self.reduction == 'sum':\n",
    "            return batched_cka.sum()\n",
    "        elif self.reduction == 'none' or self.reduction is None:\n",
    "            return batched_cka\n",
    "        else:\n",
    "            raise ValueError(f'Unrecognized reduction {self.reduction}')"
   ]
  },
  {
   "cell_type": "code",
   "execution_count": 48,
   "id": "da78a01f-2da0-472f-b5fd-44c9ccdca12e",
   "metadata": {},
   "outputs": [],
   "source": [
    "s=CKA(reduction=\"sum\")"
   ]
  },
  {
   "cell_type": "code",
   "execution_count": 49,
   "id": "6591a224-676d-4dab-9b5e-b5319b42f452",
   "metadata": {},
   "outputs": [],
   "source": [
    "out= s(r1, r2)"
   ]
  },
  {
   "cell_type": "code",
   "execution_count": 50,
   "id": "e8dc00c7-d0b2-4731-a689-d0c955f4916e",
   "metadata": {},
   "outputs": [
    {
     "data": {
      "text/plain": [
       "tensor(0.0014)"
      ]
     },
     "execution_count": 50,
     "metadata": {},
     "output_type": "execute_result"
    }
   ],
   "source": [
    "out"
   ]
  },
  {
   "cell_type": "code",
   "execution_count": null,
   "id": "11bbb74f-e419-4642-ba40-2629f7e375ae",
   "metadata": {},
   "outputs": [],
   "source": []
  }
 ],
 "metadata": {
  "kernelspec": {
   "display_name": "Irish",
   "language": "python",
   "name": "irish"
  },
  "language_info": {
   "codemirror_mode": {
    "name": "ipython",
    "version": 3
   },
   "file_extension": ".py",
   "mimetype": "text/x-python",
   "name": "python",
   "nbconvert_exporter": "python",
   "pygments_lexer": "ipython3",
   "version": "3.10.11"
  }
 },
 "nbformat": 4,
 "nbformat_minor": 5
}
