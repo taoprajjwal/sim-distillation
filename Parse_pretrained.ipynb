{
 "cells": [
  {
   "cell_type": "code",
   "execution_count": 3,
   "id": "d13fac36-d6da-4c55-af20-c14a6d3be9a1",
   "metadata": {
    "editable": true,
    "slideshow": {
     "slide_type": ""
    },
    "tags": []
   },
   "outputs": [],
   "source": [
    "import os\n",
    "import json\n",
    "import pandas as pd"
   ]
  },
  {
   "cell_type": "code",
   "execution_count": 6,
   "id": "6af97e3a-dde8-4263-85f9-29a7c3791adc",
   "metadata": {},
   "outputs": [],
   "source": [
    "tasks=os.listdir(\"distill_pure\")"
   ]
  },
  {
   "cell_type": "code",
   "execution_count": 7,
   "id": "825897c3-2035-4630-93ae-f6ba0302ead0",
   "metadata": {},
   "outputs": [
    {
     "data": {
      "text/plain": [
       "['rte', 'mrpc', 'cola']"
      ]
     },
     "execution_count": 7,
     "metadata": {},
     "output_type": "execute_result"
    }
   ],
   "source": [
    "tasks"
   ]
  },
  {
   "cell_type": "code",
   "execution_count": 8,
   "id": "9c2ac2f5-cea4-482b-8f45-da0e86377699",
   "metadata": {
    "editable": true,
    "slideshow": {
     "slide_type": ""
    },
    "tags": []
   },
   "outputs": [],
   "source": [
    "def parse_json(file):\n",
    "    f=json.load(open(file))\n",
    "    log_hist=f[\"log_history\"]\n",
    "    evals=[]\n",
    "    for log in log_hist:\n",
    "        if \"eval_loss\" in log:\n",
    "            evals.append(log)\n",
    "    return pd.DataFrame.from_dict(evals)"
   ]
  },
  {
   "cell_type": "code",
   "execution_count": 23,
   "id": "b942af4b-d851-4f26-8fa1-e617ee24a0b4",
   "metadata": {},
   "outputs": [],
   "source": [
    "tasks_df={}\n",
    "base_dir=\"cka_middle_layer\"\n",
    "large_dir=\"linear_middle_layer\"\n",
    "for task in tasks:\n",
    "    file_base=f\"{base_dir}/{task}/trainer_state.json\"\n",
    "    file_large=f\"{large_dir}/{task}/trainer_state.json\"\n",
    "    df_base=parse_json(file_base)\n",
    "    df_large=parse_json(file_large)\n",
    "    df_joined=df_base.join(df_large, lsuffix=base_dir, rsuffix= large_dir)\n",
    "    tasks_df[task]=df_joined"
   ]
  },
  {
   "cell_type": "code",
   "execution_count": 24,
   "id": "e0a32e32-1046-4b11-a0c8-e90bc05dadf9",
   "metadata": {},
   "outputs": [
    {
     "data": {
      "text/html": [
       "<div>\n",
       "<style scoped>\n",
       "    .dataframe tbody tr th:only-of-type {\n",
       "        vertical-align: middle;\n",
       "    }\n",
       "\n",
       "    .dataframe tbody tr th {\n",
       "        vertical-align: top;\n",
       "    }\n",
       "\n",
       "    .dataframe thead th {\n",
       "        text-align: right;\n",
       "    }\n",
       "</style>\n",
       "<table border=\"1\" class=\"dataframe\">\n",
       "  <thead>\n",
       "    <tr style=\"text-align: right;\">\n",
       "      <th></th>\n",
       "      <th>epochcka_middle_layer</th>\n",
       "      <th>eval_accuracycka_middle_layer</th>\n",
       "      <th>eval_combined_scorecka_middle_layer</th>\n",
       "      <th>eval_f1cka_middle_layer</th>\n",
       "      <th>eval_losscka_middle_layer</th>\n",
       "      <th>eval_runtimecka_middle_layer</th>\n",
       "      <th>eval_samples_per_secondcka_middle_layer</th>\n",
       "      <th>eval_steps_per_secondcka_middle_layer</th>\n",
       "      <th>stepcka_middle_layer</th>\n",
       "      <th>epochlinear_middle_layer</th>\n",
       "      <th>eval_accuracylinear_middle_layer</th>\n",
       "      <th>eval_combined_scorelinear_middle_layer</th>\n",
       "      <th>eval_f1linear_middle_layer</th>\n",
       "      <th>eval_losslinear_middle_layer</th>\n",
       "      <th>eval_runtimelinear_middle_layer</th>\n",
       "      <th>eval_samples_per_secondlinear_middle_layer</th>\n",
       "      <th>eval_steps_per_secondlinear_middle_layer</th>\n",
       "      <th>steplinear_middle_layer</th>\n",
       "    </tr>\n",
       "  </thead>\n",
       "  <tbody>\n",
       "    <tr>\n",
       "      <th>0</th>\n",
       "      <td>1.0</td>\n",
       "      <td>0.789216</td>\n",
       "      <td>0.826998</td>\n",
       "      <td>0.864780</td>\n",
       "      <td>0.578362</td>\n",
       "      <td>4.1117</td>\n",
       "      <td>99.229</td>\n",
       "      <td>12.404</td>\n",
       "      <td>58</td>\n",
       "      <td>1.0</td>\n",
       "      <td>0.757353</td>\n",
       "      <td>0.799222</td>\n",
       "      <td>0.841091</td>\n",
       "      <td>34.232727</td>\n",
       "      <td>97.5387</td>\n",
       "      <td>4.183</td>\n",
       "      <td>0.523</td>\n",
       "      <td>58</td>\n",
       "    </tr>\n",
       "    <tr>\n",
       "      <th>1</th>\n",
       "      <td>2.0</td>\n",
       "      <td>0.828431</td>\n",
       "      <td>0.854078</td>\n",
       "      <td>0.879725</td>\n",
       "      <td>0.406293</td>\n",
       "      <td>4.1794</td>\n",
       "      <td>97.622</td>\n",
       "      <td>12.203</td>\n",
       "      <td>116</td>\n",
       "      <td>2.0</td>\n",
       "      <td>0.789216</td>\n",
       "      <td>0.822217</td>\n",
       "      <td>0.855219</td>\n",
       "      <td>29.826538</td>\n",
       "      <td>97.8656</td>\n",
       "      <td>4.169</td>\n",
       "      <td>0.521</td>\n",
       "      <td>116</td>\n",
       "    </tr>\n",
       "    <tr>\n",
       "      <th>2</th>\n",
       "      <td>3.0</td>\n",
       "      <td>0.850490</td>\n",
       "      <td>0.872929</td>\n",
       "      <td>0.895369</td>\n",
       "      <td>0.357473</td>\n",
       "      <td>4.1551</td>\n",
       "      <td>98.192</td>\n",
       "      <td>12.274</td>\n",
       "      <td>174</td>\n",
       "      <td>3.0</td>\n",
       "      <td>0.801471</td>\n",
       "      <td>0.831267</td>\n",
       "      <td>0.861063</td>\n",
       "      <td>28.344011</td>\n",
       "      <td>97.8396</td>\n",
       "      <td>4.170</td>\n",
       "      <td>0.521</td>\n",
       "      <td>174</td>\n",
       "    </tr>\n",
       "    <tr>\n",
       "      <th>3</th>\n",
       "      <td>4.0</td>\n",
       "      <td>0.821078</td>\n",
       "      <td>0.844296</td>\n",
       "      <td>0.867514</td>\n",
       "      <td>0.425856</td>\n",
       "      <td>4.1992</td>\n",
       "      <td>97.162</td>\n",
       "      <td>12.145</td>\n",
       "      <td>232</td>\n",
       "      <td>4.0</td>\n",
       "      <td>0.816176</td>\n",
       "      <td>0.844636</td>\n",
       "      <td>0.873096</td>\n",
       "      <td>27.620565</td>\n",
       "      <td>97.8070</td>\n",
       "      <td>4.171</td>\n",
       "      <td>0.521</td>\n",
       "      <td>232</td>\n",
       "    </tr>\n",
       "    <tr>\n",
       "      <th>4</th>\n",
       "      <td>5.0</td>\n",
       "      <td>0.833333</td>\n",
       "      <td>0.859620</td>\n",
       "      <td>0.885906</td>\n",
       "      <td>0.360575</td>\n",
       "      <td>4.1491</td>\n",
       "      <td>98.336</td>\n",
       "      <td>12.292</td>\n",
       "      <td>290</td>\n",
       "      <td>5.0</td>\n",
       "      <td>0.835784</td>\n",
       "      <td>0.862152</td>\n",
       "      <td>0.888519</td>\n",
       "      <td>27.248550</td>\n",
       "      <td>97.8608</td>\n",
       "      <td>4.169</td>\n",
       "      <td>0.521</td>\n",
       "      <td>290</td>\n",
       "    </tr>\n",
       "    <tr>\n",
       "      <th>5</th>\n",
       "      <td>6.0</td>\n",
       "      <td>0.840686</td>\n",
       "      <td>0.865165</td>\n",
       "      <td>0.889643</td>\n",
       "      <td>0.362035</td>\n",
       "      <td>4.1484</td>\n",
       "      <td>98.351</td>\n",
       "      <td>12.294</td>\n",
       "      <td>348</td>\n",
       "      <td>6.0</td>\n",
       "      <td>0.835784</td>\n",
       "      <td>0.862337</td>\n",
       "      <td>0.888889</td>\n",
       "      <td>27.136101</td>\n",
       "      <td>97.8505</td>\n",
       "      <td>4.170</td>\n",
       "      <td>0.521</td>\n",
       "      <td>348</td>\n",
       "    </tr>\n",
       "  </tbody>\n",
       "</table>\n",
       "</div>"
      ],
      "text/plain": [
       "   epochcka_middle_layer  eval_accuracycka_middle_layer  \\\n",
       "0                    1.0                       0.789216   \n",
       "1                    2.0                       0.828431   \n",
       "2                    3.0                       0.850490   \n",
       "3                    4.0                       0.821078   \n",
       "4                    5.0                       0.833333   \n",
       "5                    6.0                       0.840686   \n",
       "\n",
       "   eval_combined_scorecka_middle_layer  eval_f1cka_middle_layer  \\\n",
       "0                             0.826998                 0.864780   \n",
       "1                             0.854078                 0.879725   \n",
       "2                             0.872929                 0.895369   \n",
       "3                             0.844296                 0.867514   \n",
       "4                             0.859620                 0.885906   \n",
       "5                             0.865165                 0.889643   \n",
       "\n",
       "   eval_losscka_middle_layer  eval_runtimecka_middle_layer  \\\n",
       "0                   0.578362                        4.1117   \n",
       "1                   0.406293                        4.1794   \n",
       "2                   0.357473                        4.1551   \n",
       "3                   0.425856                        4.1992   \n",
       "4                   0.360575                        4.1491   \n",
       "5                   0.362035                        4.1484   \n",
       "\n",
       "   eval_samples_per_secondcka_middle_layer  \\\n",
       "0                                   99.229   \n",
       "1                                   97.622   \n",
       "2                                   98.192   \n",
       "3                                   97.162   \n",
       "4                                   98.336   \n",
       "5                                   98.351   \n",
       "\n",
       "   eval_steps_per_secondcka_middle_layer  stepcka_middle_layer  \\\n",
       "0                                 12.404                    58   \n",
       "1                                 12.203                   116   \n",
       "2                                 12.274                   174   \n",
       "3                                 12.145                   232   \n",
       "4                                 12.292                   290   \n",
       "5                                 12.294                   348   \n",
       "\n",
       "   epochlinear_middle_layer  eval_accuracylinear_middle_layer  \\\n",
       "0                       1.0                          0.757353   \n",
       "1                       2.0                          0.789216   \n",
       "2                       3.0                          0.801471   \n",
       "3                       4.0                          0.816176   \n",
       "4                       5.0                          0.835784   \n",
       "5                       6.0                          0.835784   \n",
       "\n",
       "   eval_combined_scorelinear_middle_layer  eval_f1linear_middle_layer  \\\n",
       "0                                0.799222                    0.841091   \n",
       "1                                0.822217                    0.855219   \n",
       "2                                0.831267                    0.861063   \n",
       "3                                0.844636                    0.873096   \n",
       "4                                0.862152                    0.888519   \n",
       "5                                0.862337                    0.888889   \n",
       "\n",
       "   eval_losslinear_middle_layer  eval_runtimelinear_middle_layer  \\\n",
       "0                     34.232727                          97.5387   \n",
       "1                     29.826538                          97.8656   \n",
       "2                     28.344011                          97.8396   \n",
       "3                     27.620565                          97.8070   \n",
       "4                     27.248550                          97.8608   \n",
       "5                     27.136101                          97.8505   \n",
       "\n",
       "   eval_samples_per_secondlinear_middle_layer  \\\n",
       "0                                       4.183   \n",
       "1                                       4.169   \n",
       "2                                       4.170   \n",
       "3                                       4.171   \n",
       "4                                       4.169   \n",
       "5                                       4.170   \n",
       "\n",
       "   eval_steps_per_secondlinear_middle_layer  steplinear_middle_layer  \n",
       "0                                     0.523                       58  \n",
       "1                                     0.521                      116  \n",
       "2                                     0.521                      174  \n",
       "3                                     0.521                      232  \n",
       "4                                     0.521                      290  \n",
       "5                                     0.521                      348  "
      ]
     },
     "execution_count": 24,
     "metadata": {},
     "output_type": "execute_result"
    }
   ],
   "source": [
    "tasks_df[\"mrpc\"]"
   ]
  },
  {
   "cell_type": "code",
   "execution_count": 20,
   "id": "688539a5-2c04-4be0-91b2-db71fbff9d68",
   "metadata": {},
   "outputs": [],
   "source": [
    "tasks_df[\"cola\"].to_csv(\"stbs.csv\")"
   ]
  },
  {
   "cell_type": "code",
   "execution_count": 22,
   "id": "6854db55-d08d-4856-95c1-22787fb28751",
   "metadata": {},
   "outputs": [],
   "source": [
    "tasks_df[\"mrpc\"].to_csv(\"stbs.csv\")"
   ]
  },
  {
   "cell_type": "code",
   "execution_count": 21,
   "id": "afc7dc37-2fe1-4d91-8bcd-afce0195c82f",
   "metadata": {},
   "outputs": [],
   "source": [
    "tasks_df[\"rte\"].to_csv(\"stbs.csv\")"
   ]
  },
  {
   "cell_type": "code",
   "execution_count": 20,
   "id": "88d4defc-3d3d-4407-b0df-112ed4a3eee4",
   "metadata": {},
   "outputs": [],
   "source": [
    "returned_dict=parse_json(\"distill_pure/cola/trainer_state.json\")"
   ]
  },
  {
   "cell_type": "code",
   "execution_count": 27,
   "id": "603ba1e9-cbab-439f-83e8-de474d3d31c6",
   "metadata": {},
   "outputs": [],
   "source": [
    "returned_dict_l=parse_json(\"out_p2_l/cola/trainer_state.json\")"
   ]
  },
  {
   "cell_type": "code",
   "execution_count": 25,
   "id": "aa2d793a-1c9d-4576-8536-9fe220a890ad",
   "metadata": {},
   "outputs": [],
   "source": [
    "df=pd.DataFrame.from_dict(returned_dict)"
   ]
  },
  {
   "cell_type": "code",
   "execution_count": 28,
   "id": "2ad13986-40fa-4533-a70a-0a93fa94d26c",
   "metadata": {},
   "outputs": [],
   "source": [
    "df_2=pd.DataFrame.from_dict(returned_dict_l)"
   ]
  },
  {
   "cell_type": "code",
   "execution_count": null,
   "id": "bfa2a856-c5db-4ce2-8c23-3dedb2d82826",
   "metadata": {},
   "outputs": [],
   "source": [
    "df.join(df_2,lsuffix=\"_base\", rsuffix= \"_large\")"
   ]
  },
  {
   "cell_type": "code",
   "execution_count": null,
   "id": "39326005-651a-49a6-a9dc-18cc26136492",
   "metadata": {},
   "outputs": [],
   "source": [
    "df_2"
   ]
  },
  {
   "cell_type": "code",
   "execution_count": null,
   "id": "06093896-6129-4509-b5e6-24639227e3ad",
   "metadata": {},
   "outputs": [],
   "source": [
    "!ls"
   ]
  },
  {
   "cell_type": "code",
   "execution_count": null,
   "id": "fd427c28-a429-4bf1-9915-858b5aaeaae5",
   "metadata": {
    "scrolled": true
   },
   "outputs": [],
   "source": [
    "%cat glue_data/diagnostic/diagnostic.tsv"
   ]
  },
  {
   "cell_type": "code",
   "execution_count": 75,
   "id": "80e27310-f6da-4b4c-9c06-6ecbd13715be",
   "metadata": {},
   "outputs": [
    {
     "name": "stdout",
     "output_type": "stream",
     "text": [
      "in_domain_dev.tsv  in_domain_train.tsv  out_of_domain_dev.tsv\n"
     ]
    }
   ],
   "source": [
    "%cat glue_data/CoLA/original/tokenized/out_of_domain_dev.tsv"
   ]
  },
  {
   "cell_type": "code",
   "execution_count": null,
   "id": "c7325563-0d0a-4d73-81a9-2e6047192cab",
   "metadata": {},
   "outputs": [],
   "source": []
  }
 ],
 "metadata": {
  "kernelspec": {
   "display_name": "Python 3 (ipykernel)",
   "language": "python",
   "name": "python3"
  },
  "language_info": {
   "codemirror_mode": {
    "name": "ipython",
    "version": 3
   },
   "file_extension": ".py",
   "mimetype": "text/x-python",
   "name": "python",
   "nbconvert_exporter": "python",
   "pygments_lexer": "ipython3",
   "version": "3.12.2"
  }
 },
 "nbformat": 4,
 "nbformat_minor": 5
}
