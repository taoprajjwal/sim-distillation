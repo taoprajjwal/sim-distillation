{
 "cells": [
  {
   "cell_type": "code",
   "execution_count": 3,
   "id": "85208285-59d1-431e-b45e-e1ea67a2da10",
   "metadata": {},
   "outputs": [],
   "source": [
    "import torch\n",
    "\n",
    "def generate_almost_orthogonal_vectors(d, epsilon, max_trials=10**6, device='cpu'):\n",
    "    num_required = 2 ** d\n",
    "    accepted = []\n",
    "\n",
    "    # Sample candidates in batches for efficiency\n",
    "    batch_size = 4096\n",
    "    trials = 0\n",
    "\n",
    "    while len(accepted) < num_required and trials < max_trials:\n",
    "        # Sample random vectors from normal distribution\n",
    "        vecs = torch.randn(batch_size, d, device=device)\n",
    "        vecs = vecs / vecs.norm(dim=1, keepdim=True)  # Normalize to unit norm\n",
    "\n",
    "        for v in vecs:\n",
    "            if len(accepted) == 0:\n",
    "                accepted.append(v)\n",
    "            else:\n",
    "                existing = torch.stack(accepted)\n",
    "                inner_products = torch.matmul(existing, v)\n",
    "                if (inner_products.abs() < epsilon).all():\n",
    "                    accepted.append(v)\n",
    "                    if len(accepted) >= num_required:\n",
    "                        break\n",
    "        trials += batch_size\n",
    "\n",
    "    if len(accepted) < num_required:\n",
    "        print(f\"Only generated {len(accepted)} vectors after {trials} trials.\")\n",
    "    return torch.stack(accepted)"
   ]
  },
  {
   "cell_type": "code",
   "execution_count": 4,
   "id": "9425e6e0-1a53-4df4-8962-d0c2b1cdc691",
   "metadata": {},
   "outputs": [
    {
     "name": "stdout",
     "output_type": "stream",
     "text": [
      "Only generated 4 vectors after 1003520 trials.\n"
     ]
    }
   ],
   "source": [
    "vecs = generate_almost_orthogonal_vectors(10, 0.01)"
   ]
  },
  {
   "cell_type": "code",
   "execution_count": 5,
   "id": "15556e26-abf6-44e9-b4a1-052ae59a51ca",
   "metadata": {},
   "outputs": [
    {
     "data": {
      "text/plain": [
       "tensor([[-0.2360,  0.0880, -0.4707,  0.5020, -0.1355,  0.0266,  0.0794,  0.2411,\n",
       "          0.5999,  0.1402],\n",
       "        [ 0.0909,  0.3779, -0.6879, -0.1684, -0.0524,  0.2773, -0.0616,  0.1366,\n",
       "         -0.4930,  0.0477],\n",
       "        [-0.1851, -0.2865, -0.0113, -0.1748, -0.6970,  0.1196,  0.5782, -0.0406,\n",
       "         -0.1216, -0.0450],\n",
       "        [-0.1784,  0.3946,  0.1203,  0.1603,  0.1877,  0.2677,  0.2862, -0.1088,\n",
       "          0.0397, -0.7551]])"
      ]
     },
     "execution_count": 5,
     "metadata": {},
     "output_type": "execute_result"
    }
   ],
   "source": [
    "vecs"
   ]
  },
  {
   "cell_type": "code",
   "execution_count": 8,
   "id": "5bec217c-b0c0-4b13-bdbb-41da31e2b93e",
   "metadata": {},
   "outputs": [],
   "source": [
    "import torch\n",
    "import math\n",
    "\n",
    "def generate_low_inner_product_vectors(n, epsilon, device='cpu', seed=None):\n",
    "    if seed is not None:\n",
    "        torch.manual_seed(seed)\n",
    "\n",
    "    # Compute k = exp(epsilon^2 * n / 4)\n",
    "    k = int(math.exp((epsilon**2 * n) / 4))\n",
    "    \n",
    "    # Generate k x n random ±1 vectors\n",
    "    signs = torch.randint(0, 2, (k, n), device=device, dtype=torch.float32) * 2 - 1  # ±1\n",
    "    vectors = signs / math.sqrt(n)  # Normalize each to have norm 1\n",
    "\n",
    "    # Compute inner products\n",
    "    ip_matrix = torch.matmul(vectors, vectors.T)\n",
    "    mask = torch.eye(k, device=device).bool()\n",
    "    ip_matrix[mask] = 0  # zero out diagonal\n",
    "\n",
    "    max_ip = ip_matrix.abs().max().item()\n",
    "    success = (ip_matrix.abs() < epsilon).all().item()\n",
    "\n",
    "    print(f\"Generated {k} vectors in {n} dimensions.\")\n",
    "    print(f\"Maximum off-diagonal inner product: {max_ip:.4f}\")\n",
    "    print(\"All inner products < ε:\", success)\n",
    "\n",
    "    return vectors\n"
   ]
  },
  {
   "cell_type": "code",
   "execution_count": 31,
   "id": "6601bab3-b428-47ac-8b57-0528b50b1b5c",
   "metadata": {},
   "outputs": [
    {
     "name": "stdout",
     "output_type": "stream",
     "text": [
      "Generated 22026 vectors in 1000 dimensions.\n",
      "Maximum off-diagonal inner product: 0.1820\n",
      "All inner products < ε: True\n"
     ]
    }
   ],
   "source": [
    "vecs = generate_low_inner_product_vectors(1000, 0.2)"
   ]
  },
  {
   "cell_type": "code",
   "execution_count": 33,
   "id": "a9ef9495-311b-440a-ad2f-eaaa45b3a12d",
   "metadata": {},
   "outputs": [
    {
     "data": {
      "text/plain": [
       "tensor([[-0.0316,  0.0316,  0.0316,  ...,  0.0316, -0.0316, -0.0316],\n",
       "        [ 0.0316, -0.0316,  0.0316,  ...,  0.0316, -0.0316, -0.0316],\n",
       "        [ 0.0316, -0.0316,  0.0316,  ...,  0.0316, -0.0316,  0.0316],\n",
       "        ...,\n",
       "        [ 0.0316,  0.0316, -0.0316,  ..., -0.0316, -0.0316,  0.0316],\n",
       "        [ 0.0316,  0.0316,  0.0316,  ..., -0.0316,  0.0316,  0.0316],\n",
       "        [-0.0316,  0.0316, -0.0316,  ...,  0.0316,  0.0316,  0.0316]])"
      ]
     },
     "execution_count": 33,
     "metadata": {},
     "output_type": "execute_result"
    }
   ],
   "source": [
    "vecs"
   ]
  },
  {
   "cell_type": "code",
   "execution_count": null,
   "id": "16263e36-23f7-437c-9f14-8fc1da1fe494",
   "metadata": {},
   "outputs": [],
   "source": [
    "torch.linalg.norm(vecs, dim=1)"
   ]
  },
  {
   "cell_type": "code",
   "execution_count": 74,
   "id": "af2f2090-4a6a-44cc-a95e-49e2131c238b",
   "metadata": {},
   "outputs": [
    {
     "data": {
      "text/plain": [
       "22026"
      ]
     },
     "execution_count": 74,
     "metadata": {},
     "output_type": "execute_result"
    }
   ],
   "source": [
    "int(math.exp((0.2**2 * 1000) / 4))"
   ]
  },
  {
   "cell_type": "code",
   "execution_count": 82,
   "id": "97e3b912-e3ea-47c9-b790-9b72bc7affac",
   "metadata": {},
   "outputs": [],
   "source": [
    "proj = torch.randn(1000, 500)"
   ]
  },
  {
   "cell_type": "code",
   "execution_count": 83,
   "id": "b8e86380-736b-4549-9673-68d06f17162c",
   "metadata": {},
   "outputs": [],
   "source": [
    "stud_vecs = vecs @ proj\n",
    "stud_vecs = stud_vecs / stud_vecs.norm(dim=1, keepdim=True)"
   ]
  },
  {
   "cell_type": "code",
   "execution_count": 84,
   "id": "300734db-2eae-4b7c-99d1-ad39c0f861d8",
   "metadata": {},
   "outputs": [
    {
     "data": {
      "text/plain": [
       "torch.Size([22026, 500])"
      ]
     },
     "execution_count": 84,
     "metadata": {},
     "output_type": "execute_result"
    }
   ],
   "source": [
    "stud_vecs.shape"
   ]
  },
  {
   "cell_type": "code",
   "execution_count": 85,
   "id": "7478a68f-76ad-48e5-9b1b-f47208dbad4b",
   "metadata": {},
   "outputs": [
    {
     "data": {
      "text/plain": [
       "tensor([1.0000, 1.0000, 1.0000,  ..., 1.0000, 1.0000, 1.0000])"
      ]
     },
     "execution_count": 85,
     "metadata": {},
     "output_type": "execute_result"
    }
   ],
   "source": [
    "torch.linalg.norm(stud_vecs, dim=1)"
   ]
  },
  {
   "cell_type": "code",
   "execution_count": 86,
   "id": "98a37083-9ce8-46cf-a726-e7e5fa7aaf75",
   "metadata": {},
   "outputs": [],
   "source": [
    "ip_matrix = torch.matmul(stud_vecs, stud_vecs.T)\n",
    "mask = torch.eye(22026).bool()\n",
    "ip_matrix[mask] = 0  # zero out diagonal\n",
    "\n",
    "max_ip = ip_matrix.abs().max().item()\n",
    "success = (ip_matrix.abs() < 0.2).float()\n"
   ]
  },
  {
   "cell_type": "code",
   "execution_count": 90,
   "id": "9c6c2558-f5f9-4912-a724-6ad2a7abfa03",
   "metadata": {},
   "outputs": [
    {
     "data": {
      "text/plain": [
       "tensor(107040.)"
      ]
     },
     "execution_count": 90,
     "metadata": {},
     "output_type": "execute_result"
    }
   ],
   "source": [
    "22026*22026 - success.sum()"
   ]
  },
  {
   "cell_type": "code",
   "execution_count": 91,
   "id": "d7d7671b-3aa3-42cf-b9be-d6ad81574452",
   "metadata": {},
   "outputs": [
    {
     "data": {
      "text/plain": [
       "53520.0"
      ]
     },
     "execution_count": 91,
     "metadata": {},
     "output_type": "execute_result"
    }
   ],
   "source": [
    "107040/2"
   ]
  },
  {
   "cell_type": "code",
   "execution_count": null,
   "id": "0a21e3eb-5dd8-4e76-893c-b6ba30f993fd",
   "metadata": {},
   "outputs": [],
   "source": []
  }
 ],
 "metadata": {
  "kernelspec": {
   "display_name": "GPU",
   "language": "python",
   "name": "gpu"
  },
  "language_info": {
   "codemirror_mode": {
    "name": "ipython",
    "version": 3
   },
   "file_extension": ".py",
   "mimetype": "text/x-python",
   "name": "python",
   "nbconvert_exporter": "python",
   "pygments_lexer": "ipython3",
   "version": "3.10.12"
  }
 },
 "nbformat": 4,
 "nbformat_minor": 5
}
