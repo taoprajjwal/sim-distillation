{
 "cells": [
  {
   "cell_type": "code",
   "execution_count": 160,
   "id": "629cadd1-a606-43a2-8b2f-212c5d584445",
   "metadata": {},
   "outputs": [
    {
     "name": "stderr",
     "output_type": "stream",
     "text": [
      "\u001b[34m\u001b[1mwandb\u001b[0m: \u001b[32m\u001b[41mERROR\u001b[0m Failed to detect the name of this notebook. You can set it manually with the WANDB_NOTEBOOK_NAME environment variable to enable code saving.\n",
      "\u001b[34m\u001b[1mwandb\u001b[0m: Currently logged in as: \u001b[33mtaoprajjwal\u001b[0m (\u001b[33mpj-runs\u001b[0m) to \u001b[32mhttps://api.wandb.ai\u001b[0m. Use \u001b[1m`wandb login --relogin`\u001b[0m to force relogin\n"
     ]
    },
    {
     "data": {
      "text/plain": [
       "True"
      ]
     },
     "execution_count": 160,
     "metadata": {},
     "output_type": "execute_result"
    }
   ],
   "source": [
    "import wandb\n",
    "wandb.login()"
   ]
  },
  {
   "cell_type": "code",
   "execution_count": null,
   "id": "dd7d0a1f-b997-4343-82e2-aaa4cea7f9d1",
   "metadata": {},
   "outputs": [],
   "source": []
  },
  {
   "cell_type": "code",
   "execution_count": 179,
   "id": "5bec217c-b0c0-4b13-bdbb-41da31e2b93e",
   "metadata": {},
   "outputs": [],
   "source": [
    "import torch\n",
    "from tqdm import tqdm\n",
    "import math\n",
    "\n",
    "def generate_low_inner_product_vectors(n, epsilon, device='cpu', seed=None):\n",
    "    if seed is not None:\n",
    "        torch.manual_seed(seed)\n",
    "\n",
    "    # Compute k = exp(epsilon^2 * n / 4)\n",
    "    k = int(math.exp((epsilon**2 * n) / 4))\n",
    "    \n",
    "    # Generate k x n random ±1 vectors\n",
    "    signs = torch.randint(0, 2, (k, n), device=device, dtype=torch.float32) * 2 - 1  # ±1\n",
    "    vectors = signs / math.sqrt(n)  # Normalize each to have norm 1\n",
    "\n",
    "    # Compute inner products\n",
    "    ip_matrix = torch.matmul(vectors, vectors.T)\n",
    "    mask = torch.eye(k, device=device).bool()\n",
    "    ip_matrix[mask] = 0  # zero out diagonal\n",
    "\n",
    "    max_ip = ip_matrix.abs().max().item()\n",
    "    success = (ip_matrix.abs() < epsilon).all().item()\n",
    "\n",
    "    print(f\"Generated {k} vectors in {n} dimensions.\")\n",
    "    print(f\"Maximum off-diagonal inner product: {max_ip:.4f}\")\n",
    "    print(\"All inner products < ε:\", success)\n",
    "\n",
    "    return vectors\n"
   ]
  },
  {
   "cell_type": "code",
   "execution_count": 147,
   "id": "6601bab3-b428-47ac-8b57-0528b50b1b5c",
   "metadata": {},
   "outputs": [
    {
     "name": "stdout",
     "output_type": "stream",
     "text": [
      "Generated 22026 vectors in 1000 dimensions.\n",
      "Maximum off-diagonal inner product: 0.1900\n",
      "All inner products < ε: True\n"
     ]
    }
   ],
   "source": [
    "vecs = generate_low_inner_product_vectors(1000, 0.2)"
   ]
  },
  {
   "cell_type": "code",
   "execution_count": 148,
   "id": "16263e36-23f7-437c-9f14-8fc1da1fe494",
   "metadata": {},
   "outputs": [
    {
     "data": {
      "text/plain": [
       "tensor([1.0000, 1.0000, 1.0000,  ..., 1.0000, 1.0000, 1.0000])"
      ]
     },
     "execution_count": 148,
     "metadata": {},
     "output_type": "execute_result"
    }
   ],
   "source": [
    "torch.linalg.norm(vecs, dim=1)"
   ]
  },
  {
   "cell_type": "code",
   "execution_count": 149,
   "id": "97e3b912-e3ea-47c9-b790-9b72bc7affac",
   "metadata": {},
   "outputs": [],
   "source": [
    "proj = torch.randn(1000, 500)"
   ]
  },
  {
   "cell_type": "code",
   "execution_count": 150,
   "id": "ed75a32a-db40-49ef-a352-3d5b9edcb8cf",
   "metadata": {},
   "outputs": [],
   "source": [
    "stud_vec_2 = torch.randn(22026, 500)\n",
    "stud_vec_2 = stud_vec_2 / stud_vec_2.norm(dim=1, keepdim=True)"
   ]
  },
  {
   "cell_type": "code",
   "execution_count": 151,
   "id": "d1b00409-0bc8-47e8-a16c-78db56d3add6",
   "metadata": {},
   "outputs": [],
   "source": [
    "stud_vec_2 = stud_vec_2.requires_grad_(True)"
   ]
  },
  {
   "cell_type": "code",
   "execution_count": 152,
   "id": "b8e86380-736b-4549-9673-68d06f17162c",
   "metadata": {},
   "outputs": [],
   "source": [
    "stud_vecs = vecs @ proj\n",
    "stud_vecs = stud_vecs / stud_vecs.norm(dim=1, keepdim=True)"
   ]
  },
  {
   "cell_type": "code",
   "execution_count": 153,
   "id": "300734db-2eae-4b7c-99d1-ad39c0f861d8",
   "metadata": {},
   "outputs": [],
   "source": [
    "student_vecs = stud_vecs.requires_grad_(True)"
   ]
  },
  {
   "cell_type": "code",
   "execution_count": 178,
   "id": "95a178dc-5d8a-4cb4-80b7-2a3f0042b9f8",
   "metadata": {},
   "outputs": [],
   "source": [
    "def luby_mis_from_dense(adj_dense, max_iters=1000, device='cpu'):\n",
    "    \"\"\"\n",
    "    Compute an approximate maximal independent set using Luby's algorithm.\n",
    "    \n",
    "    Args:\n",
    "        adj_dense (torch.Tensor): Dense n x n adjacency matrix with 1s as edges, 0s elsewhere.\n",
    "        max_iters (int): Maximum iterations to try.\n",
    "        device (str): 'cpu' or 'cuda'.\n",
    "    \n",
    "    Returns:\n",
    "        torch.Tensor: Indices of nodes in the MIS.\n",
    "    \"\"\"\n",
    "    # Convert to sparse format for efficiency\n",
    "    adj_dense = adj_dense.to(device)\n",
    "    n = adj_dense.size(0)\n",
    "    adj_sparse = adj_dense.to_sparse().coalesce()\n",
    "\n",
    "    in_set = torch.zeros(n, dtype=torch.bool, device=device)\n",
    "    remaining = torch.ones(n, dtype=torch.bool, device=device)\n",
    "\n",
    "    for _ in range(max_iters):\n",
    "        if not remaining.any():\n",
    "            break\n",
    "\n",
    "        priorities = torch.rand(n, device=device)\n",
    "        priorities[~remaining] = -1e9  # Effectively ignore these\n",
    "\n",
    "        # Compute max neighbor priority\n",
    "        neighbor_max = torch.sparse.mm(adj_sparse, priorities.unsqueeze(1)).squeeze(1)\n",
    "\n",
    "        selected = (priorities > neighbor_max) & remaining\n",
    "        in_set[selected] = True\n",
    "\n",
    "        # Mark neighbors of selected for removal\n",
    "        selected_mask = selected.to(adj_dense.dtype).unsqueeze(0)  # (1 x n)\n",
    "        neighbors_of_selected = (selected_mask @ adj_dense).squeeze(0).bool()\n",
    "\n",
    "        to_remove = selected | neighbors_of_selected\n",
    "        remaining[to_remove] = False\n",
    "\n",
    "    return torch.nonzero(in_set, as_tuple=False).squeeze(1)"
   ]
  },
  {
   "cell_type": "code",
   "execution_count": 183,
   "id": "adff029d-2978-41ed-b95e-66f47dc0dcf8",
   "metadata": {},
   "outputs": [],
   "source": [
    "def get_adjc(vec, eps):\n",
    "    norm_vec = vec / vec.norm(dim=1, keepdims=True)\n",
    "    ip_matrix = vec@vec.T\n",
    "    mask = torch.eye(len(vec)).bool()\n",
    "    ip_matrix[mask] = 0\n",
    "\n",
    "    return (ip_matrix.abs() < eps).float()"
   ]
  },
  {
   "cell_type": "code",
   "execution_count": 143,
   "id": "199ae111-2084-4fb0-bb01-7c4c7822c44c",
   "metadata": {},
   "outputs": [
    {
     "name": "stdout",
     "output_type": "stream",
     "text": [
      "no remains\n"
     ]
    }
   ],
   "source": [
    "s= luby_mis_from_dense(1-success,100)"
   ]
  },
  {
   "cell_type": "code",
   "execution_count": 128,
   "id": "00e77a94-eaae-491e-b930-c46ec4f445e0",
   "metadata": {},
   "outputs": [
    {
     "data": {
      "text/plain": [
       "20627"
      ]
     },
     "execution_count": 128,
     "metadata": {},
     "output_type": "execute_result"
    }
   ],
   "source": [
    "len(s)"
   ]
  },
  {
   "cell_type": "code",
   "execution_count": 101,
   "id": "3336cbd6-4a04-45b2-ab81-aa378a32a88a",
   "metadata": {},
   "outputs": [
    {
     "data": {
      "text/plain": [
       "20624"
      ]
     },
     "execution_count": 101,
     "metadata": {},
     "output_type": "execute_result"
    }
   ],
   "source": [
    "len(s)"
   ]
  },
  {
   "cell_type": "code",
   "execution_count": 139,
   "id": "7fbfecd7-5a79-49c1-be41-aa29671f4779",
   "metadata": {},
   "outputs": [],
   "source": [
    "selected_m = ip_matrix[s][:, s]"
   ]
  },
  {
   "cell_type": "code",
   "execution_count": 144,
   "id": "f5d8c86a-7816-44ea-8374-4cf042ae75a0",
   "metadata": {},
   "outputs": [
    {
     "data": {
      "text/plain": [
       "torch.Size([20621, 20621])"
      ]
     },
     "execution_count": 144,
     "metadata": {},
     "output_type": "execute_result"
    }
   ],
   "source": [
    "selected_m.shape"
   ]
  },
  {
   "cell_type": "code",
   "execution_count": 145,
   "id": "f27f77ed-77fc-46d1-9d07-7a4abb1fed2f",
   "metadata": {},
   "outputs": [
    {
     "data": {
      "text/plain": [
       "(tensor([False]), tensor([20621]))"
      ]
     },
     "execution_count": 145,
     "metadata": {},
     "output_type": "execute_result"
    }
   ],
   "source": [
    "((selected_m.abs() < 0.2).float().sum(dim = 1) == 20618).unique(return_counts=True)"
   ]
  },
  {
   "cell_type": "code",
   "execution_count": 120,
   "id": "0af161c3-edac-4527-a4ec-9f1b890a3f0c",
   "metadata": {},
   "outputs": [
    {
     "data": {
      "text/plain": [
       "tensor(12284)"
      ]
     },
     "execution_count": 120,
     "metadata": {},
     "output_type": "execute_result"
    }
   ],
   "source": [
    "(selected_m.abs()< 0.2).float().sum(dim=1).argmin()"
   ]
  },
  {
   "cell_type": "code",
   "execution_count": 123,
   "id": "5aa849a5-9b31-48d1-a734-a16e7458e5d2",
   "metadata": {},
   "outputs": [
    {
     "data": {
      "text/plain": [
       "tensor(0.2004, grad_fn=<SelectBackward0>)"
      ]
     },
     "execution_count": 123,
     "metadata": {},
     "output_type": "execute_result"
    }
   ],
   "source": [
    "selected_m[12284][11209]"
   ]
  },
  {
   "cell_type": "code",
   "execution_count": 59,
   "id": "d8d2791e-62a7-4b6c-aae4-ee78aea24be8",
   "metadata": {},
   "outputs": [],
   "source": [
    "adj = generate_sparse_torch_adj(22000, 0.05)"
   ]
  },
  {
   "cell_type": "code",
   "execution_count": 62,
   "id": "e5ecb555-a043-40b7-9a0a-81a51850ee4a",
   "metadata": {},
   "outputs": [
    {
     "data": {
      "text/plain": [
       "tensor(indices=tensor([[    0,     0,     0,  ..., 21999, 21999, 21999],\n",
       "                       [    6,    15,    27,  ..., 21984, 21985, 21996]]),\n",
       "       values=tensor([2., 1., 2.,  ..., 1., 1., 1.]),\n",
       "       size=(22000, 22000), nnz=47176416, layout=torch.sparse_coo)"
      ]
     },
     "execution_count": 62,
     "metadata": {},
     "output_type": "execute_result"
    }
   ],
   "source": [
    "adj"
   ]
  },
  {
   "cell_type": "code",
   "execution_count": 78,
   "id": "c159679c-159f-4ea1-b394-d105d8d82d29",
   "metadata": {},
   "outputs": [],
   "source": [
    "ip_matrix = stud_vec_2@ stud_vec_2.T\n",
    "mask = torch.eye(len(stud_vec_2)).bool()\n",
    "ip_matrix[mask] = 0  # zero out diagonal\n"
   ]
  },
  {
   "cell_type": "code",
   "execution_count": null,
   "id": "4a29f693-c318-4b78-8a83-c6c55e096d7a",
   "metadata": {},
   "outputs": [],
   "source": [
    "n = greedy_max_independent(ip_matrix,0.25)"
   ]
  },
  {
   "cell_type": "code",
   "execution_count": 43,
   "id": "75a5ab8b-c175-4166-b06c-3e303645c636",
   "metadata": {},
   "outputs": [],
   "source": [
    "success = (ip_matrix.abs() < 0.2)\n",
    "i = torch.argmin((success * (1- ip_matrix.abs())).sum(dim=1))"
   ]
  },
  {
   "cell_type": "code",
   "execution_count": 125,
   "id": "7e632fb0-e0d3-4229-954f-8d2905ae9f33",
   "metadata": {},
   "outputs": [],
   "source": [
    "success = (ip_matrix.abs() < 0.2).float()"
   ]
  },
  {
   "cell_type": "code",
   "execution_count": null,
   "id": "5c82e95d-0d4d-4a34-901a-4bde5543269d",
   "metadata": {},
   "outputs": [],
   "source": []
  },
  {
   "cell_type": "code",
   "execution_count": 18,
   "id": "8685b368-edcf-4970-8c6a-4e285eead1f3",
   "metadata": {},
   "outputs": [
    {
     "data": {
      "text/plain": [
       "False"
      ]
     },
     "execution_count": 18,
     "metadata": {},
     "output_type": "execute_result"
    }
   ],
   "source": [
    "success.all().item()"
   ]
  },
  {
   "cell_type": "code",
   "execution_count": 39,
   "id": "9c6c2558-f5f9-4912-a724-6ad2a7abfa03",
   "metadata": {},
   "outputs": [
    {
     "data": {
      "text/plain": [
       "tensor(3232.)"
      ]
     },
     "execution_count": 39,
     "metadata": {},
     "output_type": "execute_result"
    }
   ],
   "source": [
    "22026*22026 - success.sum()"
   ]
  },
  {
   "cell_type": "code",
   "execution_count": 162,
   "id": "d7d7671b-3aa3-42cf-b9be-d6ad81574452",
   "metadata": {},
   "outputs": [],
   "source": [
    "from similarity_measures import LinearMeasure, CKA\n",
    "import similarity"
   ]
  },
  {
   "cell_type": "code",
   "execution_count": 170,
   "id": "0a21e3eb-5dd8-4e76-893c-b6ba30f993fd",
   "metadata": {},
   "outputs": [],
   "source": [
    "lin = LinearMeasure(approx=False)\n",
    "cka = CKA(biased=False)\n",
    "measure = similarity.make(\"measure/netrep/procrustes-distance=euclidean\")"
   ]
  },
  {
   "cell_type": "code",
   "execution_count": 171,
   "id": "52bd1459-33b4-47dd-95eb-e6c3df76993f",
   "metadata": {},
   "outputs": [],
   "source": [
    "from torch.utils.data import TensorDataset, DataLoader\n",
    "\n",
    "dataset = TensorDataset(vecs, stud_vec_2)\n",
    "dl = DataLoader(dataset, batch_size=256, shuffle=False)\n"
   ]
  },
  {
   "cell_type": "code",
   "execution_count": 182,
   "id": "649512a4-a91d-40a7-91f1-1120c25473fa",
   "metadata": {
    "scrolled": true
   },
   "outputs": [
    {
     "data": {
      "text/html": [
       "Tracking run with wandb version 0.21.0"
      ],
      "text/plain": [
       "<IPython.core.display.HTML object>"
      ]
     },
     "metadata": {},
     "output_type": "display_data"
    },
    {
     "data": {
      "text/html": [
       "Run data is saved locally in <code>/scratch/pb2276/temp_git/sim-distillation/wandb/run-20250710_034408-jl9cderz</code>"
      ],
      "text/plain": [
       "<IPython.core.display.HTML object>"
      ]
     },
     "metadata": {},
     "output_type": "display_data"
    },
    {
     "data": {
      "text/html": [
       "Syncing run <strong><a href='https://wandb.ai/pj-runs/synthetic_minimization/runs/jl9cderz' target=\"_blank\">cka_minim</a></strong> to <a href='https://wandb.ai/pj-runs/synthetic_minimization' target=\"_blank\">Weights & Biases</a> (<a href='https://wandb.me/developer-guide' target=\"_blank\">docs</a>)<br>"
      ],
      "text/plain": [
       "<IPython.core.display.HTML object>"
      ]
     },
     "metadata": {},
     "output_type": "display_data"
    },
    {
     "data": {
      "text/html": [
       " View project at <a href='https://wandb.ai/pj-runs/synthetic_minimization' target=\"_blank\">https://wandb.ai/pj-runs/synthetic_minimization</a>"
      ],
      "text/plain": [
       "<IPython.core.display.HTML object>"
      ]
     },
     "metadata": {},
     "output_type": "display_data"
    },
    {
     "data": {
      "text/html": [
       " View run at <a href='https://wandb.ai/pj-runs/synthetic_minimization/runs/jl9cderz' target=\"_blank\">https://wandb.ai/pj-runs/synthetic_minimization/runs/jl9cderz</a>"
      ],
      "text/plain": [
       "<IPython.core.display.HTML object>"
      ]
     },
     "metadata": {},
     "output_type": "display_data"
    },
    {
     "name": "stderr",
     "output_type": "stream",
     "text": [
      "Epoch 1: 100%|██████████| 87/87 [05:40<00:00,  3.92s/it] \n",
      "Epoch 2: 100%|██████████| 87/87 [04:24<00:00,  3.04s/it]\n",
      "Epoch 3: 100%|██████████| 87/87 [04:31<00:00,  3.12s/it]\n",
      "Epoch 4: 100%|██████████| 87/87 [06:12<00:00,  4.28s/it]\n",
      "Epoch 5: 100%|██████████| 87/87 [04:49<00:00,  3.33s/it]\n",
      "Epoch 6: 100%|██████████| 87/87 [04:07<00:00,  2.85s/it]\n",
      "Epoch 7: 100%|██████████| 87/87 [04:44<00:00,  3.27s/it]\n",
      "Epoch 8: 100%|██████████| 87/87 [04:51<00:00,  3.35s/it]\n",
      "Epoch 9: 100%|██████████| 87/87 [03:55<00:00,  2.70s/it]\n",
      "Epoch 10: 100%|██████████| 87/87 [03:50<00:00,  2.65s/it]\n"
     ]
    },
    {
     "data": {
      "text/html": [],
      "text/plain": [
       "<IPython.core.display.HTML object>"
      ]
     },
     "metadata": {},
     "output_type": "display_data"
    },
    {
     "data": {
      "text/html": [
       "<br>    <style><br>        .wandb-row {<br>            display: flex;<br>            flex-direction: row;<br>            flex-wrap: wrap;<br>            justify-content: flex-start;<br>            width: 100%;<br>        }<br>        .wandb-col {<br>            display: flex;<br>            flex-direction: column;<br>            flex-basis: 100%;<br>            flex: 1;<br>            padding: 10px;<br>        }<br>    </style><br><div class=\"wandb-row\"><div class=\"wandb-col\"><h3>Run history:</h3><br/><table class=\"wandb\"><tr><td>cka</td><td>██▆▆▅▅▃▄▃▃▃▃▂▂▂▂▁▁▁▁▁▁▁▁▁▁▁▁▁▁▁▁▁▁▁▁▁▁▁▁</td></tr><tr><td>eps-orth-vectors</td><td>███▇▇▇▇▇▇▇▇▆▆▆▆▆▆▆▅▅▅▅▅▅▅▅▄▄▄▄▄▃▃▂▂▂▂▁▁▁</td></tr><tr><td>shape</td><td>▅▅▅▅▅▅▆▆▄▇▃▇▃▃▇▇▂▇▂█▇▁▇▁▇▇▁▇▁▇█▁█▂███▁█▂</td></tr></table><br/></div><div class=\"wandb-col\"><h3>Run summary:</h3><br/><table class=\"wandb\"><tr><td>cka</td><td>0.03313</td></tr><tr><td>eps-orth-vectors</td><td>13236</td></tr><tr><td>shape</td><td>0.59853</td></tr></table><br/></div></div>"
      ],
      "text/plain": [
       "<IPython.core.display.HTML object>"
      ]
     },
     "metadata": {},
     "output_type": "display_data"
    },
    {
     "data": {
      "text/html": [
       " View run <strong style=\"color:#cdcd00\">cka_minim</strong> at: <a href='https://wandb.ai/pj-runs/synthetic_minimization/runs/jl9cderz' target=\"_blank\">https://wandb.ai/pj-runs/synthetic_minimization/runs/jl9cderz</a><br> View project at: <a href='https://wandb.ai/pj-runs/synthetic_minimization' target=\"_blank\">https://wandb.ai/pj-runs/synthetic_minimization</a><br>Synced 5 W&B file(s), 0 media file(s), 0 artifact file(s) and 0 other file(s)"
      ],
      "text/plain": [
       "<IPython.core.display.HTML object>"
      ]
     },
     "metadata": {},
     "output_type": "display_data"
    },
    {
     "data": {
      "text/html": [
       "Find logs at: <code>./wandb/run-20250710_034408-jl9cderz/logs</code>"
      ],
      "text/plain": [
       "<IPython.core.display.HTML object>"
      ]
     },
     "metadata": {},
     "output_type": "display_data"
    }
   ],
   "source": [
    "optim = torch.optim.AdamW([stud_vec_2])\n",
    "wandb.init(project=\"synthetic_minimization\", entity=\"pj-runs\", name=\"cka_minim\")\n",
    "for epoch in range(10):\n",
    "    for batch in tqdm(dl, desc=f\"Epoch {epoch+1}\"):\n",
    "        a,b = batch\n",
    "        loss = 1- (cka(b.unsqueeze(1), a.unsqueeze(1)))\n",
    "        shape = measure(b.detach().numpy(), a.detach().numpy())\n",
    "        adj = get_adjc(stud_vec_2, 0.2)\n",
    "        s = luby_mis_from_dense(1-adj)\n",
    "        wandb.log( {\"shape\": shape, \"cka\":loss.item(), \"eps-orth-vectors\": len(s)})\n",
    "        loss.backward()\n",
    "        optim.step()\n",
    "        optim.zero_grad()\n",
    "wandb.finish()"
   ]
  },
  {
   "cell_type": "code",
   "execution_count": 175,
   "id": "ab5b3c22-7d23-4b5f-aadb-cd1512993b53",
   "metadata": {},
   "outputs": [
    {
     "name": "stdout",
     "output_type": "stream",
     "text": [
      "no remains\n"
     ]
    }
   ],
   "source": [
    "s = luby_mis_from_dense(1-adj)"
   ]
  },
  {
   "cell_type": "code",
   "execution_count": 33,
   "id": "3e82336e-27cf-40ce-9bc1-5b424f781df4",
   "metadata": {},
   "outputs": [],
   "source": [
    "stud_vec_after = stud_vec_2 / stud_vec_2.norm(dim=1, keepdim=True)"
   ]
  },
  {
   "cell_type": "code",
   "execution_count": 34,
   "id": "80ddc585-628a-408a-8ee3-e77881c807a5",
   "metadata": {},
   "outputs": [],
   "source": [
    "ip_matrix = torch.matmul(stud_vec_after, stud_vec_after.T)\n",
    "mask = torch.eye(22026).bool()\n",
    "ip_matrix[mask] = 0  # zero out diagonal\n",
    "\n",
    "max_ip = ip_matrix.abs().max().item()\n",
    "success = (ip_matrix.abs() < 0.2).float()"
   ]
  },
  {
   "cell_type": "code",
   "execution_count": 50,
   "id": "0cd53cd2-6fce-430e-ab4d-bcceccf35ef0",
   "metadata": {},
   "outputs": [
    {
     "data": {
      "text/plain": [
       "tensor([[1., 1., 1.,  ..., 1., 1., 1.],\n",
       "        [1., 1., 1.,  ..., 1., 1., 1.],\n",
       "        [1., 1., 1.,  ..., 1., 1., 1.],\n",
       "        ...,\n",
       "        [1., 1., 1.,  ..., 1., 1., 1.],\n",
       "        [1., 1., 1.,  ..., 1., 1., 1.],\n",
       "        [1., 1., 1.,  ..., 1., 1., 1.]])"
      ]
     },
     "execution_count": 50,
     "metadata": {},
     "output_type": "execute_result"
    }
   ],
   "source": []
  },
  {
   "cell_type": "code",
   "execution_count": 35,
   "id": "d93e530b-cfc4-4ff5-acc6-5528cd696497",
   "metadata": {},
   "outputs": [
    {
     "data": {
      "text/plain": [
       "tensor(7328.)"
      ]
     },
     "execution_count": 35,
     "metadata": {},
     "output_type": "execute_result"
    }
   ],
   "source": [
    "22026*22026 - success.sum()"
   ]
  },
  {
   "cell_type": "code",
   "execution_count": 36,
   "id": "543ff9d4-f195-4480-9e48-da2f8ff1752c",
   "metadata": {},
   "outputs": [
    {
     "data": {
      "text/plain": [
       "3664.0"
      ]
     },
     "execution_count": 36,
     "metadata": {},
     "output_type": "execute_result"
    }
   ],
   "source": [
    "7328/2"
   ]
  },
  {
   "cell_type": "code",
   "execution_count": null,
   "id": "39b40b05-6368-4885-9b2f-16f6c3efcd39",
   "metadata": {},
   "outputs": [],
   "source": []
  },
  {
   "cell_type": "code",
   "execution_count": null,
   "id": "1d07df1b-d649-450c-be2c-d706d6bc1597",
   "metadata": {},
   "outputs": [],
   "source": [
    "optim = torch.optim.AdamW([stud_vec_2])\n",
    "wandb.init(project=\"synthetic_minimization\", entity=\"pj-runs\", name=\"cka_minim\")\n",
    "for epoch in range(20):\n",
    "    for batch in dl:\n",
    "        a,b = batch\n",
    "        loss = 1- (cka(b.unsqueeze(1), a.unsqueeze(1)))\n",
    "        shape = measure(b.detach().numpy(), a.detach().numpy())\n",
    "        wandb.log( {\"shape\": shape, \"cka\":loss.item()})\n",
    "        loss.backward()\n",
    "        optim.step()\n",
    "        optim.zero_grad()"
   ]
  },
  {
   "cell_type": "code",
   "execution_count": 164,
   "id": "17e0398e-9f1a-47b0-9f0e-7aabe07f41e3",
   "metadata": {},
   "outputs": [
    {
     "data": {
      "text/plain": [
       "tensor(0.2200, grad_fn=<RsubBackward1>)"
      ]
     },
     "execution_count": 164,
     "metadata": {},
     "output_type": "execute_result"
    }
   ],
   "source": [
    "loss"
   ]
  },
  {
   "cell_type": "code",
   "execution_count": 19,
   "id": "54fa9f53-1c27-4831-bebc-99172cf014bd",
   "metadata": {},
   "outputs": [
    {
     "data": {
      "text/plain": [
       "tensor(0., grad_fn=<MeanBackward0>)"
      ]
     },
     "execution_count": 19,
     "metadata": {},
     "output_type": "execute_result"
    }
   ],
   "source": [
    "lin(b.unsqueeze(1), a.unsqueeze(1))"
   ]
  },
  {
   "cell_type": "code",
   "execution_count": 23,
   "id": "e44c8e30-c1b0-4fc8-86fe-49d90c6b1265",
   "metadata": {},
   "outputs": [
    {
     "data": {
      "text/plain": [
       "3.4752114467949236"
      ]
     },
     "execution_count": 23,
     "metadata": {},
     "output_type": "execute_result"
    }
   ],
   "source": [
    "measure(b.detach().numpy(), a.detach().numpy())"
   ]
  },
  {
   "cell_type": "code",
   "execution_count": null,
   "id": "692e34b9-ab09-4bb4-b3f7-49ddd3d22cae",
   "metadata": {},
   "outputs": [],
   "source": []
  }
 ],
 "metadata": {
  "kernelspec": {
   "display_name": "GPU",
   "language": "python",
   "name": "gpu"
  },
  "language_info": {
   "codemirror_mode": {
    "name": "ipython",
    "version": 3
   },
   "file_extension": ".py",
   "mimetype": "text/x-python",
   "name": "python",
   "nbconvert_exporter": "python",
   "pygments_lexer": "ipython3",
   "version": "3.10.12"
  }
 },
 "nbformat": 4,
 "nbformat_minor": 5
}
