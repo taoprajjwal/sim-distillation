{
 "cells": [
  {
   "cell_type": "code",
   "execution_count": 1,
   "id": "629cadd1-a606-43a2-8b2f-212c5d584445",
   "metadata": {},
   "outputs": [
    {
     "name": "stderr",
     "output_type": "stream",
     "text": [
      "\u001b[34m\u001b[1mwandb\u001b[0m: \u001b[32m\u001b[41mERROR\u001b[0m Failed to detect the name of this notebook. You can set it manually with the WANDB_NOTEBOOK_NAME environment variable to enable code saving.\n",
      "\u001b[34m\u001b[1mwandb\u001b[0m: Currently logged in as: \u001b[33mtaoprajjwal\u001b[0m (\u001b[33mpj-runs\u001b[0m) to \u001b[32mhttps://api.wandb.ai\u001b[0m. Use \u001b[1m`wandb login --relogin`\u001b[0m to force relogin\n"
     ]
    },
    {
     "data": {
      "text/plain": [
       "True"
      ]
     },
     "execution_count": 1,
     "metadata": {},
     "output_type": "execute_result"
    }
   ],
   "source": [
    "import wandb\n",
    "wandb.login()"
   ]
  },
  {
   "cell_type": "code",
   "execution_count": null,
   "id": "622f88ee-e4a0-4632-8687-d999093c43a6",
   "metadata": {},
   "outputs": [],
   "source": []
  },
  {
   "cell_type": "code",
   "execution_count": 2,
   "id": "5bec217c-b0c0-4b13-bdbb-41da31e2b93e",
   "metadata": {},
   "outputs": [],
   "source": [
    "import torch\n",
    "from tqdm import tqdm\n",
    "import math\n",
    "device = torch.device(\"cuda\")\n",
    "\n",
    "def generate_low_inner_product_vectors(n, epsilon, device='cpu', seed=None):\n",
    "    if seed is not None:\n",
    "        torch.manual_seed(seed)\n",
    "        \n",
    "    # Compute k = exp(epsilon^2 * n / 4)\n",
    "    k = int(math.exp((epsilon**2 * n) / 4))\n",
    "    \n",
    "    # Generate k x n random ±1 vectors\n",
    "    signs = torch.randint(0, 2, (k, n), device=device, dtype=torch.float32) * 2 - 1  # ±1\n",
    "    vectors = signs / math.sqrt(n)  # Normalize each to have norm 1\n",
    "\n",
    "    # Compute inner products\n",
    "    ip_matrix = torch.matmul(vectors, vectors.T)\n",
    "    mask = torch.eye(k, device=device).bool()\n",
    "    ip_matrix[mask] = 0  # zero out diagonal\n",
    "\n",
    "    max_ip = ip_matrix.abs().max().item()\n",
    "    success = (ip_matrix.abs() < epsilon).all().item()\n",
    "\n",
    "    print(f\"Generated {k} vectors in {n} dimensions.\")\n",
    "    print(f\"Maximum off-diagonal inner product: {max_ip:.4f}\")\n",
    "    print(\"All inner products < ε:\", success)\n",
    "\n",
    "    return vectors\n"
   ]
  },
  {
   "cell_type": "code",
   "execution_count": 3,
   "id": "6601bab3-b428-47ac-8b57-0528b50b1b5c",
   "metadata": {},
   "outputs": [
    {
     "name": "stdout",
     "output_type": "stream",
     "text": [
      "Generated 22026 vectors in 1000 dimensions.\n",
      "Maximum off-diagonal inner product: 0.1880\n",
      "All inner products < ε: True\n"
     ]
    }
   ],
   "source": [
    "vecs = generate_low_inner_product_vectors(1000, 0.2)"
   ]
  },
  {
   "cell_type": "code",
   "execution_count": 4,
   "id": "16263e36-23f7-437c-9f14-8fc1da1fe494",
   "metadata": {},
   "outputs": [
    {
     "data": {
      "text/plain": [
       "tensor([1.0000, 1.0000, 1.0000,  ..., 1.0000, 1.0000, 1.0000])"
      ]
     },
     "execution_count": 4,
     "metadata": {},
     "output_type": "execute_result"
    }
   ],
   "source": [
    "torch.linalg.norm(vecs, dim=1)"
   ]
  },
  {
   "cell_type": "code",
   "execution_count": 5,
   "id": "97e3b912-e3ea-47c9-b790-9b72bc7affac",
   "metadata": {},
   "outputs": [],
   "source": [
    "proj = torch.randn(1000, 500)"
   ]
  },
  {
   "cell_type": "code",
   "execution_count": 6,
   "id": "ed75a32a-db40-49ef-a352-3d5b9edcb8cf",
   "metadata": {},
   "outputs": [],
   "source": [
    "stud_vec_2 = torch.randn(22026, 500)\n",
    "stud_vec_2 = stud_vec_2 / stud_vec_2.norm(dim=1, keepdim=True)\n",
    "stud_vec_2_init = stud_vec_2.data"
   ]
  },
  {
   "cell_type": "code",
   "execution_count": 7,
   "id": "30f335e2-60ef-4b1f-ba8f-037bd15cc668",
   "metadata": {},
   "outputs": [
    {
     "data": {
      "text/plain": [
       "tensor([[ 0.0294, -0.0400,  0.0588,  ...,  0.0399, -0.0438, -0.0007],\n",
       "        [ 0.0367,  0.0058,  0.0245,  ...,  0.0360,  0.0393, -0.0008],\n",
       "        [-0.0168,  0.0031, -0.0716,  ...,  0.1032, -0.0077, -0.0650],\n",
       "        ...,\n",
       "        [ 0.0692, -0.0596, -0.0078,  ...,  0.0598, -0.0692, -0.0877],\n",
       "        [ 0.0233, -0.0206, -0.0192,  ...,  0.0172,  0.0116,  0.0221],\n",
       "        [-0.0042, -0.0105,  0.1012,  ..., -0.0878,  0.0217, -0.0182]])"
      ]
     },
     "execution_count": 7,
     "metadata": {},
     "output_type": "execute_result"
    }
   ],
   "source": [
    "stud_vec_2"
   ]
  },
  {
   "cell_type": "code",
   "execution_count": 8,
   "id": "d1b00409-0bc8-47e8-a16c-78db56d3add6",
   "metadata": {},
   "outputs": [],
   "source": [
    "stud_vec_2 = stud_vec_2.requires_grad_(True)"
   ]
  },
  {
   "cell_type": "code",
   "execution_count": 9,
   "id": "b8e86380-736b-4549-9673-68d06f17162c",
   "metadata": {},
   "outputs": [],
   "source": [
    "stud_vecs = vecs @ proj\n",
    "stud_vecs = stud_vecs / stud_vecs.norm(dim=1, keepdim=True)"
   ]
  },
  {
   "cell_type": "code",
   "execution_count": 10,
   "id": "300734db-2eae-4b7c-99d1-ad39c0f861d8",
   "metadata": {},
   "outputs": [],
   "source": [
    "student_vecs = stud_vecs.requires_grad_(True)"
   ]
  },
  {
   "cell_type": "code",
   "execution_count": 11,
   "id": "95a178dc-5d8a-4cb4-80b7-2a3f0042b9f8",
   "metadata": {},
   "outputs": [],
   "source": [
    "def luby_mis_from_dense(adj_dense, max_iters=1000, device=device):\n",
    "    \"\"\"\n",
    "    Compute an approximate maximal independent set using Luby's algorithm.\n",
    "    \n",
    "    Args:\n",
    "        adj_dense (torch.Tensor): Dense n x n adjacency matrix with 1s as edges, 0s elsewhere.\n",
    "        max_iters (int): Maximum iterations to try.\n",
    "        device (str): 'cpu' or 'cuda'.\n",
    "    \n",
    "    Returns:\n",
    "        torch.Tensor: Indices of nodes in the MIS.\n",
    "    \"\"\"\n",
    "    # Convert to sparse format for efficiency\n",
    "    adj_dense = adj_dense.to(device)\n",
    "    n = adj_dense.size(0)\n",
    "    adj_sparse = adj_dense.to_sparse().coalesce()\n",
    "\n",
    "    in_set = torch.zeros(n, dtype=torch.bool, device=device)\n",
    "    remaining = torch.ones(n, dtype=torch.bool, device=device)\n",
    "\n",
    "    for _ in range(max_iters):\n",
    "        if not remaining.any():\n",
    "            break\n",
    "\n",
    "        priorities = torch.rand(n, device=device)\n",
    "        priorities[~remaining] = -1e9  # Effectively ignore these\n",
    "\n",
    "        # Compute max neighbor priority\n",
    "        neighbor_max = torch.sparse.mm(adj_sparse, priorities.unsqueeze(1)).squeeze(1)\n",
    "\n",
    "        selected = (priorities > neighbor_max) & remaining\n",
    "        in_set[selected] = True\n",
    "\n",
    "        # Mark neighbors of selected for removal\n",
    "        selected_mask = selected.to(adj_dense.dtype).unsqueeze(0)  # (1 x n)\n",
    "        neighbors_of_selected = (selected_mask @ adj_dense).squeeze(0).bool()\n",
    "\n",
    "        to_remove = selected | neighbors_of_selected\n",
    "        remaining[to_remove] = False\n",
    "\n",
    "    return torch.nonzero(in_set, as_tuple=False).squeeze(1)"
   ]
  },
  {
   "cell_type": "code",
   "execution_count": 12,
   "id": "adff029d-2978-41ed-b95e-66f47dc0dcf8",
   "metadata": {},
   "outputs": [],
   "source": [
    "def get_adjc(vec, eps):\n",
    "    norm_vec = vec / vec.norm(dim=1, keepdim=True)\n",
    "    ip_matrix = vec@vec.T\n",
    "    mask = torch.eye(len(vec)).bool().to(device)\n",
    "    ip_matrix[mask] = 0\n",
    "\n",
    "    return (ip_matrix.abs() < eps).float()"
   ]
  },
  {
   "cell_type": "code",
   "execution_count": null,
   "id": "b77459b3-915b-40ef-8bef-149a2a26a72f",
   "metadata": {},
   "outputs": [],
   "source": [
    "from importlib import reload\n",
    "reload(sim)"
   ]
  },
  {
   "cell_type": "code",
   "execution_count": 13,
   "id": "d7d7671b-3aa3-42cf-b9be-d6ad81574452",
   "metadata": {},
   "outputs": [],
   "source": [
    "import similarity_measures as sim\n",
    "import similarity"
   ]
  },
  {
   "cell_type": "code",
   "execution_count": 14,
   "id": "0a21e3eb-5dd8-4e76-893c-b6ba30f993fd",
   "metadata": {},
   "outputs": [],
   "source": [
    "lin = sim.LinearMeasure(approx=True)\n",
    "cka = sim.CKA(biased=False)\n",
    "measure = similarity.make(\"measure/netrep/procrustes-distance=euclidean\")"
   ]
  },
  {
   "cell_type": "code",
   "execution_count": 15,
   "id": "52bd1459-33b4-47dd-95eb-e6c3df76993f",
   "metadata": {},
   "outputs": [],
   "source": [
    "from torch.utils.data import TensorDataset, DataLoader\n",
    "def copy_and_clone(stud_vec):\n",
    "    stud_vec_2 = stud_vec.clone().detach()\n",
    "    stud_vec_2.requires_grad_(True)\n",
    "    dataset = TensorDataset(vecs, stud_vec_2)\n",
    "    return stud_vec_2, dataset\n",
    "    "
   ]
  },
  {
   "cell_type": "code",
   "execution_count": 15,
   "id": "9da7a467-ee6f-4b8a-845b-1335cc13c603",
   "metadata": {},
   "outputs": [],
   "source": [
    "def get_kernel_frobenius(x_vec, y_vec):\n",
    "    k_x = x_vec@ x_vec.T\n",
    "    k_y = y_vec@ y_vec.T\n",
    "\n",
    "    return torch.norm(k_x -k_y, p=\"fro\")"
   ]
  },
  {
   "cell_type": "code",
   "execution_count": 16,
   "id": "f8fa3d66-5fe7-4f79-9e9d-38ea0d4e6862",
   "metadata": {},
   "outputs": [
    {
     "data": {
      "text/plain": [
       "20597"
      ]
     },
     "execution_count": 16,
     "metadata": {},
     "output_type": "execute_result"
    }
   ],
   "source": [
    "len(luby_mis_from_dense(1- get_adjc(stud_vec_2, 0.2)))"
   ]
  },
  {
   "cell_type": "code",
   "execution_count": 17,
   "id": "c92b6297-8f6d-4645-9f6e-3a6aa62e3da3",
   "metadata": {},
   "outputs": [
    {
     "data": {
      "text/plain": [
       "10381"
      ]
     },
     "execution_count": 17,
     "metadata": {},
     "output_type": "execute_result"
    }
   ],
   "source": [
    "len(luby_mis_from_dense(1- get_adjc(stud_vecs, 0.2)))"
   ]
  },
  {
   "cell_type": "code",
   "execution_count": null,
   "id": "649512a4-a91d-40a7-91f1-1120c25473fa",
   "metadata": {
    "scrolled": true
   },
   "outputs": [],
   "source": [
    "stud_vec_2_cka, dataset_cka = copy_and_clone(stud_vecs)\n",
    "dl = DataLoader(dataset_cka, batch_size=256, shuffle=False)\n",
    "optim = torch.optim.AdamW([stud_vec_2_cka])\n",
    "wandb.init(project=\"synthetic_minimization\", entity=\"pj-runs\", name=\"cka_minim_projected_stud\")\n",
    "for epoch in range(10):\n",
    "    for batch in tqdm(dl, desc=f\"Epoch {epoch+1}\"):\n",
    "        a,b = batch\n",
    "        loss = 1- (cka(b.unsqueeze(1), a.unsqueeze(1)))\n",
    "        shape = lin(b.unsqueeze(1), a.unsqueeze(1))\n",
    "        k_frob = get_kernel_frobenius(a,b)\n",
    "        adj = get_adjc(stud_vec_2_cka, 0.2)\n",
    "        s = luby_mis_from_dense(1-adj)\n",
    "        wandb.log( {\"shape\": shape.item(), \"cka\":loss.item(), \"eps-orth-vectors\": len(s), \"kernel_frob\":k_frob})\n",
    "        loss.backward()\n",
    "        optim.step()\n",
    "        optim.zero_grad()\n",
    "wandb.finish()"
   ]
  },
  {
   "cell_type": "code",
   "execution_count": null,
   "id": "a8f64cbf",
   "metadata": {
    "scrolled": true
   },
   "outputs": [],
   "source": [
    "stud_vec_2_shape, dataset_shape = copy_and_clone(stud_vecs)\n",
    "dl = DataLoader(dataset_shape, batch_size=256, shuffle=False)\n",
    "optim = torch.optim.AdamW([stud_vec_2_shape])\n",
    "wandb.init(project=\"synthetic_minimization\", entity=\"pj-runs\", name=\"shape_minim_projected_stud\")\n",
    "for epoch in range(10):\n",
    "    for batch in tqdm(dl, desc=f\"Epoch {epoch+1}\"):\n",
    "        a,b = batch\n",
    "        ck = 1- (cka(b.unsqueeze(1), a.unsqueeze(1)))\n",
    "        loss = lin(b.unsqueeze(1),  a.unsqueeze(1))\n",
    "        adj = get_adjc(stud_vec_2_shape, 0.2)\n",
    "        k_frob = get_kernel_frobenius(a,b)\n",
    "        s = luby_mis_from_dense(1-adj)\n",
    "        wandb.log( {\"shape\": loss.item(), \"cka\":ck.item(), \"eps-orth-vectors\": len(s) ,\"kernel_frob\":k_frob})\n",
    "        loss.backward()\n",
    "        optim.step()\n",
    "        optim.zero_grad()\n",
    "wandb.finish()"
   ]
  },
  {
   "cell_type": "code",
   "execution_count": null,
   "id": "52bfabe5-e59b-4f38-8f4a-a0b8ff5d02e6",
   "metadata": {},
   "outputs": [],
   "source": [
    "stud_vec_2_kfrob, dataset_kfrob = copy_and_clone(stud_vecs)\n",
    "dl = DataLoader(dataset_kfrob, batch_size=256, shuffle=False)\n",
    "optim = torch.optim.AdamW([stud_vec_2_kfrob])\n",
    "wandb.init(project=\"synthetic_minimization\", entity=\"pj-runs\", name=\"kernel_frobenius_diff_projected_stud\")\n",
    "for epoch in range(10):\n",
    "    for batch in tqdm(dl, desc=f\"Epoch {epoch+1}\"):\n",
    "        a,b = batch\n",
    "        ck = 1- (cka(b.unsqueeze(1), a.unsqueeze(1)))\n",
    "        shape = lin(b.unsqueeze(1),  a.unsqueeze(1))\n",
    "        adj = get_adjc(stud_vec_2_kfrob, 0.2)\n",
    "        loss = get_kernel_frobenius(a,b)\n",
    "        s = luby_mis_from_dense(1-adj)\n",
    "        print({\"shape\": shape.item(), \"cka\":ck.item(), \"eps-orth-vectors\": len(s), \"kernel_frob\": loss.item()})\n",
    "        wandb.log( {\"shape\": shape.item(), \"cka\":ck.item(), \"eps-orth-vectors\": len(s), \"kernel_frob\": loss.item()})\n",
    "        loss.backward()\n",
    "        optim.step()\n",
    "        optim.zero_grad()\n",
    "wandb.finish()"
   ]
  },
  {
   "cell_type": "code",
   "execution_count": null,
   "id": "360a1b26-c3ab-43ce-b5bb-2ba61646e9b4",
   "metadata": {},
   "outputs": [],
   "source": [
    "wandb.finish()"
   ]
  },
  {
   "cell_type": "code",
   "execution_count": 27,
   "id": "71c68c4f-eacc-4013-aeb2-254b4dbdd03a",
   "metadata": {},
   "outputs": [],
   "source": [
    "stud_vec_2_kfrob, dataset_kfrob = copy_and_clone(stud_vecs)"
   ]
  },
  {
   "cell_type": "code",
   "execution_count": 28,
   "id": "e943c9a7-288a-4dd9-986f-edd3cf81bc5e",
   "metadata": {},
   "outputs": [
    {
     "data": {
      "text/plain": [
       "10572"
      ]
     },
     "execution_count": 28,
     "metadata": {},
     "output_type": "execute_result"
    }
   ],
   "source": [
    "len(luby_mis_from_dense(1- get_adjc(stud_vec_2_kfrob, 0.2)))"
   ]
  },
  {
   "cell_type": "code",
   "execution_count": null,
   "id": "42d74e13-1a83-4d62-9127-f8b427a3dce3",
   "metadata": {},
   "outputs": [],
   "source": [
    "stud_vec_2_cka, dataset_cka = copy_and_clone(stud_vecs)\n",
    "dl = DataLoader(dataset_cka, batch_size=256, shuffle=False)\n",
    "optim = torch.optim.AdamW([stud_vec_2_cka])\n",
    "wandb.init(project=\"synthethic_minimization_batch\", entity=\"pj-runs\", name=\"cka_minim_projected_stud\")\n",
    "for epoch in range(100):\n",
    "    a,b = dataset_cka[:]\n",
    "    loss = 1- (cka(b.unsqueeze(1), a.unsqueeze(1)))\n",
    "    shape = lin(b.unsqueeze(1), a.unsqueeze(1))\n",
    "    k_frob = get_kernel_frobenius(a,b)\n",
    "    adj = get_adjc(stud_vec_2_cka, 0.2)\n",
    "    s = luby_mis_from_dense(1-adj)\n",
    "    wandb.log( {\"shape\": shape.item(), \"cka\":loss.item(), \"eps-orth-vectors\": len(s), \"kernel_frob\":k_frob})\n",
    "    loss.backward()\n",
    "    optim.step()\n",
    "    optim.zero_grad()\n",
    "wandb.finish()"
   ]
  },
  {
   "cell_type": "code",
   "execution_count": null,
   "id": "0cd53cd2-6fce-430e-ab4d-bcceccf35ef0",
   "metadata": {},
   "outputs": [],
   "source": [
    "stud_vec_2_shap, dataset_shap = copy_and_clone(stud_vecs)\n",
    "dl = DataLoader(dataset_shap, batch_size=256, shuffle=False)\n",
    "optim = torch.optim.AdamW([stud_vec_2_shap])\n",
    "wandb.init(project=\"synthethic_minimization_batch\", entity=\"pj-runs\", name=\"shape_minim_projected_stud\")\n",
    "for epoch in range(100):\n",
    "    a,b = dataset_shap[:]\n",
    "    ck = 1- (cka(b.unsqueeze(1), a.unsqueeze(1)))\n",
    "    loss = lin(b.unsqueeze(1), a.unsqueeze(1))\n",
    "    k_frob = get_kernel_frobenius(a,b)\n",
    "    adj = get_adjc(stud_vec_2_shap, 0.2)\n",
    "    s = luby_mis_from_dense(1-adj)\n",
    "    wandb.log( {\"shape\": loss.item(), \"cka\":ck.item(), \"eps-orth-vectors\": len(s), \"kernel_frob\":k_frob})\n",
    "    loss.backward()\n",
    "    optim.step()\n",
    "    optim.zero_grad()\n",
    "wandb.finish()"
   ]
  },
  {
   "cell_type": "code",
   "execution_count": null,
   "id": "17c148a7-5eb9-4593-a294-784374f947e6",
   "metadata": {},
   "outputs": [],
   "source": [
    "stud_vec_2_kfrob, dataset_kfrob = copy_and_clone(stud_vecs)\n",
    "dl = DataLoader(dataset_kfrob, batch_size=256, shuffle=False)\n",
    "optim = torch.optim.AdamW([stud_vec_2_kfrob])\n",
    "wandb.init(project=\"synthethic_minimization_batch\", entity=\"pj-runs\", name=\"kfrob_minim_projected_stud\")\n",
    "for epoch in range(100):\n",
    "    a,b = dataset_kfrob[:]\n",
    "    ck = 1- (cka(b.unsqueeze(1), a.unsqueeze(1)))\n",
    "    shape = lin(b.unsqueeze(1), a.unsqueeze(1))\n",
    "    loss = get_kernel_frobenius(a,b)\n",
    "    adj = get_adjc(stud_vec_2_kfrob, 0.2)\n",
    "    s = luby_mis_from_dense(1-adj)\n",
    "    wandb.log( {\"shape\": shape, \"cka\":ck.item(), \"eps-orth-vectors\": len(s), \"kernel_frob\":loss.item()})\n",
    "    loss.backward()\n",
    "    optim.step()\n",
    "    optim.zero_grad()\n",
    "wandb.finish()"
   ]
  },
  {
   "cell_type": "code",
   "execution_count": 35,
   "id": "d93e530b-cfc4-4ff5-acc6-5528cd696497",
   "metadata": {},
   "outputs": [
    {
     "data": {
      "text/plain": [
       "tensor(7328.)"
      ]
     },
     "execution_count": 35,
     "metadata": {},
     "output_type": "execute_result"
    }
   ],
   "source": [
    "22026*22026 - success.sum()"
   ]
  },
  {
   "cell_type": "code",
   "execution_count": 36,
   "id": "543ff9d4-f195-4480-9e48-da2f8ff1752c",
   "metadata": {},
   "outputs": [
    {
     "data": {
      "text/plain": [
       "3664.0"
      ]
     },
     "execution_count": 36,
     "metadata": {},
     "output_type": "execute_result"
    }
   ],
   "source": [
    "7328/2"
   ]
  },
  {
   "cell_type": "code",
   "execution_count": null,
   "id": "1d07df1b-d649-450c-be2c-d706d6bc1597",
   "metadata": {},
   "outputs": [],
   "source": [
    "optim = torch.optim.AdamW([stud_vec_2])\n",
    "wandb.init(project=\"synthetic_minimization\", entity=\"pj-runs\", name=\"cka_minim\")\n",
    "for epoch in range(20):\n",
    "    for batch in dl:\n",
    "        a,b = batch\n",
    "        loss = 1- (cka(b.unsqueeze(1), a.unsqueeze(1)))\n",
    "        shape = measure(b.detach().numpy(), a.detach().numpy())\n",
    "        wandb.log( {\"shape\": shape, \"cka\":loss.item()})\n",
    "        loss.backward()\n",
    "        optim.step()\n",
    "        optim.zero_grad()"
   ]
  },
  {
   "cell_type": "code",
   "execution_count": 164,
   "id": "17e0398e-9f1a-47b0-9f0e-7aabe07f41e3",
   "metadata": {},
   "outputs": [
    {
     "data": {
      "text/plain": [
       "tensor(0.2200, grad_fn=<RsubBackward1>)"
      ]
     },
     "execution_count": 164,
     "metadata": {},
     "output_type": "execute_result"
    }
   ],
   "source": [
    "loss"
   ]
  },
  {
   "cell_type": "code",
   "execution_count": 106,
   "id": "54fa9f53-1c27-4831-bebc-99172cf014bd",
   "metadata": {},
   "outputs": [
    {
     "data": {
      "text/plain": [
       "tensor(0.2626, grad_fn=<SubBackward0>)"
      ]
     },
     "execution_count": 106,
     "metadata": {},
     "output_type": "execute_result"
    }
   ],
   "source": [
    "lin(a.unsqueeze(1), b.unsqueeze(1))"
   ]
  },
  {
   "cell_type": "code",
   "execution_count": 107,
   "id": "e44c8e30-c1b0-4fc8-86fe-49d90c6b1265",
   "metadata": {},
   "outputs": [
    {
     "data": {
      "text/plain": [
       "0.262740774754418"
      ]
     },
     "execution_count": 107,
     "metadata": {},
     "output_type": "execute_result"
    }
   ],
   "source": [
    "measure(b.detach().numpy(), a.detach().numpy()) **2"
   ]
  },
  {
   "cell_type": "code",
   "execution_count": 75,
   "id": "692e34b9-ab09-4bb4-b3f7-49ddd3d22cae",
   "metadata": {},
   "outputs": [],
   "source": [
    "mx, wx = lin.partial_fit(b.unsqueeze(1), center_col_idx=0)"
   ]
  },
  {
   "cell_type": "code",
   "execution_count": 85,
   "id": "ae960a9f-143f-4539-835f-54d561d3c6bc",
   "metadata": {},
   "outputs": [
    {
     "data": {
      "text/plain": [
       "torch.Size([20, 1, 500])"
      ]
     },
     "execution_count": 85,
     "metadata": {},
     "output_type": "execute_result"
    }
   ],
   "source": [
    "wx.shape"
   ]
  },
  {
   "cell_type": "code",
   "execution_count": null,
   "id": "00676877-0f85-4341-913e-b4de155468a1",
   "metadata": {},
   "outputs": [],
   "source": [
    "wx.mean(dim=0)[0]"
   ]
  },
  {
   "cell_type": "code",
   "execution_count": null,
   "id": "c9993b78-89ba-4255-84f3-7703aacb6d38",
   "metadata": {},
   "outputs": [],
   "source": []
  },
  {
   "cell_type": "markdown",
   "id": "834e48c5-4e48-42aa-8e6b-de4c2673446e",
   "metadata": {},
   "source": [
    "## Linear combo"
   ]
  },
  {
   "cell_type": "code",
   "execution_count": 19,
   "id": "d72ff8f7-acc3-4c60-859b-6fb48de56c05",
   "metadata": {},
   "outputs": [],
   "source": [
    "import random"
   ]
  },
  {
   "cell_type": "code",
   "execution_count": 20,
   "id": "c47d8f12-e749-4662-9d77-7ed660d9d180",
   "metadata": {},
   "outputs": [
    {
     "data": {
      "text/plain": [
       "torch.Size([22026, 1000])"
      ]
     },
     "execution_count": 20,
     "metadata": {},
     "output_type": "execute_result"
    }
   ],
   "source": [
    "vecs.shape"
   ]
  },
  {
   "cell_type": "code",
   "execution_count": 21,
   "id": "3b78c393-73f1-4ac2-837d-27458e7dfaf5",
   "metadata": {},
   "outputs": [
    {
     "data": {
      "text/plain": [
       "torch.Size([1, 1000])"
      ]
     },
     "execution_count": 21,
     "metadata": {},
     "output_type": "execute_result"
    }
   ],
   "source": [
    "vecs[torch.randint(0, len(vecs), (10,))].sum(dim=0, keepdim=True).shape"
   ]
  },
  {
   "cell_type": "code",
   "execution_count": null,
   "id": "16f85692-6ceb-4a29-96a9-985515187718",
   "metadata": {},
   "outputs": [],
   "source": [
    "SAMPLE_SIZE = 10000\n",
    "k_max = 10\n",
    "idx_list= []\n",
    "group_ids = []\n",
    "for i in range(SAMPLE_SIZE):\n",
    "    k = random.randint(1,k_max)\n",
    "    ix = torch.randint(0, len(vecs), (k,))\n",
    "    idx_list.append(ix)\n",
    "    group_ids.append(torch.full_like(ix, i))"
   ]
  },
  {
   "cell_type": "code",
   "execution_count": 54,
   "id": "7d26c70e-ce05-4983-b95b-2798e11833eb",
   "metadata": {},
   "outputs": [],
   "source": [
    "from torch.utils.data import TensorDataset, DataLoader\n",
    "def copy_and_clone(stud_vec):\n",
    "    stud_vec_2 = stud_vec.clone().detach()\n",
    "    stud_vec_2.requires_grad_(True).to(device)\n",
    "    group_ids_tensor = torch.cat(group_ids)\n",
    "    idx_tensor = torch.cat(idx_list)\n",
    "    X_t = torch.zeros(len(idx_list), vecs.shape[1])\n",
    "    \n",
    "    X_t = X_t.index_add(0, group_ids_tensor, vecs[idx_tensor]).to(device)\n",
    "    \n",
    "    Y_t = torch.zeros(len(idx_list), stud_vec_2.shape[1])\n",
    "    \n",
    "    Y_t = Y_t.index_add(0, group_ids_tensor, stud_vec_2[idx_tensor]).to(device)\n",
    "    \n",
    "    dataset = TensorDataset(X_t, Y_t)\n",
    "    return stud_vec_2, dataset\n",
    "    "
   ]
  },
  {
   "cell_type": "code",
   "execution_count": 66,
   "id": "c222af3d-630d-4c2d-b1d6-afc6a5313edb",
   "metadata": {},
   "outputs": [],
   "source": [
    "stud_vec_2_cka, dataset_cka = copy_and_clone(stud_vecs)\n",
    "dl = DataLoader(dataset_cka, batch_size=4, shuffle=False)\n"
   ]
  },
  {
   "cell_type": "code",
   "execution_count": 67,
   "id": "a138c168-efc8-49ae-9008-20f56c45c981",
   "metadata": {},
   "outputs": [],
   "source": [
    "a, b = dataset_cka[:]"
   ]
  },
  {
   "cell_type": "code",
   "execution_count": 73,
   "id": "d97e0ed4-3579-4006-a53b-22fda2b6370a",
   "metadata": {},
   "outputs": [],
   "source": [
    "stud_vec_2_kfrobime"
   ]
  },
  {
   "cell_type": "code",
   "execution_count": null,
   "id": "be716f6b-4fb7-491f-b097-340661ce7b18",
   "metadata": {},
   "outputs": [],
   "source": [
    "for batch in (dl):\n",
    "    a,b = batch\n",
    "    loss= 1- (cka(b.unsqueeze(1), a.unsqueeze(1)))\n",
    "    print(loss)\n",
    "    st = time.time()\n",
    "    loss.backward()\n",
    "    end = time.time()\n",
    "    print(st-end)"
   ]
  },
  {
   "cell_type": "code",
   "execution_count": null,
   "id": "d1a6539a-e7c4-4503-902d-d74ea8ccecc0",
   "metadata": {},
   "outputs": [],
   "source": [
    "stud_vec_2_cka, dataset_cka = copy_and_clone(stud_vecs)\n",
    "dl = DataLoader(dataset_cka, batch_size=256, shuffle=False)\n",
    "optim = torch.optim.AdamW([stud_vec_2_cka])\n",
    "wandb.init(project=\"linear_combo_2\", entity=\"pj-runs\", name=\"cka\")\n",
    "for epoch in range(10):\n",
    "    for batch in tqdm(dl, desc=f\"Epoch {epoch+1}\"):\n",
    "        a,b = batch\n",
    "        loss = 1- (cka(b.unsqueeze(1), a.unsqueeze(1)))\n",
    "        shape = lin(b.unsqueeze(1), a.unsqueeze(1))\n",
    "        k_frob = get_kernel_frobenius(a,b)\n",
    "        adj = get_adjc(stud_vec_2_cka, 0.2)\n",
    "        s = luby_mis_from_dense(1-adj)\n",
    "        wandb.log( {\"shape\": shape.item(), \"cka\":loss.item(), \"eps-orth-vectors\": len(s), \"kernel_frob\":k_frob})\n",
    "        print( {\"shape\": shape.item(), \"cka\":loss.item(), \"eps-orth-vectors\": len(s), \"kernel_frob\":k_frob})\n",
    "        loss.backward(retain_graph=True)\n",
    "        optim.step()\n",
    "        optim.zero_grad()\n",
    "wandb.finish()"
   ]
  },
  {
   "cell_type": "code",
   "execution_count": null,
   "id": "600eaeb6-d8ae-468c-8407-6b33959c0965",
   "metadata": {},
   "outputs": [],
   "source": [
    "wandb.finish()"
   ]
  },
  {
   "cell_type": "code",
   "execution_count": null,
   "id": "4afb398c-5342-437f-a15b-fd1f12f49aff",
   "metadata": {},
   "outputs": [],
   "source": [
    "stud_vec_2_shape, dataset_shape = copy_and_clone(stud_vecs)\n",
    "dl = DataLoader(dataset_shape, batch_size=256, shuffle=False)\n",
    "optim = torch.optim.AdamW([stud_vec_2_shape])\n",
    "wandb.init(project=\"linear_combo_2\", entity=\"pj-runs\", name=\"shape\")\n",
    "for epoch in range(10):\n",
    "    for batch in tqdm(dl, desc=f\"Epoch {epoch+1}\"):\n",
    "        a,b = batch\n",
    "        ck = 1- (cka(b.unsqueeze(1), a.unsqueeze(1)))\n",
    "        loss = lin(b.unsqueeze(1),  a.unsqueeze(1))\n",
    "        adj = get_adjc(stud_vec_2_shape, 0.2)\n",
    "        k_frob = get_kernel_frobenius(a,b)\n",
    "        s = luby_mis_from_dense(1-adj)\n",
    "        wandb.log( {\"shape\": loss.item(), \"cka\":ck.item(), \"eps-orth-vectors\": len(s) ,\"kernel_frob\":k_frob})\n",
    "        loss.backward(retain_graph=True)\n",
    "        optim.step()\n",
    "        optim.zero_grad()\n",
    "wandb.finish()"
   ]
  },
  {
   "cell_type": "code",
   "execution_count": null,
   "id": "bd9ddf5a-b6d8-497e-b3a8-1d0fcae93bd6",
   "metadata": {},
   "outputs": [],
   "source": [
    "wandb.finish()"
   ]
  },
  {
   "cell_type": "code",
   "execution_count": 58,
   "id": "ba84ea62-2b55-4c00-a088-0a4db67ec05c",
   "metadata": {
    "scrolled": true
   },
   "outputs": [
    {
     "name": "stderr",
     "output_type": "stream",
     "text": [
      "Epoch 6:  43%|████▎     | 34/79 [00:44<00:58,  1.30s/it]"
     ]
    },
    {
     "name": "stdout",
     "output_type": "stream",
     "text": [
      "{'shape': 146.529541015625, 'cka': 0.40882694721221924, 'eps-orth-vectors': 5327, 'kernel_frob': 62.265689849853516}\n"
     ]
    },
    {
     "name": "stderr",
     "output_type": "stream",
     "text": [
      "Epoch 6:  44%|████▍     | 35/79 [00:45<00:57,  1.30s/it]"
     ]
    },
    {
     "name": "stdout",
     "output_type": "stream",
     "text": [
      "{'shape': 149.734130859375, 'cka': 0.41761285066604614, 'eps-orth-vectors': 1380, 'kernel_frob': 65.24884796142578}\n"
     ]
    },
    {
     "name": "stderr",
     "output_type": "stream",
     "text": [
      "Epoch 6:  46%|████▌     | 36/79 [00:47<00:58,  1.36s/it]"
     ]
    },
    {
     "name": "stdout",
     "output_type": "stream",
     "text": [
      "{'shape': 156.946533203125, 'cka': 0.41814249753952026, 'eps-orth-vectors': 1034, 'kernel_frob': 66.73936462402344}\n"
     ]
    },
    {
     "name": "stderr",
     "output_type": "stream",
     "text": [
      "Epoch 6:  47%|████▋     | 37/79 [00:48<00:59,  1.41s/it]"
     ]
    },
    {
     "name": "stdout",
     "output_type": "stream",
     "text": [
      "{'shape': 136.32470703125, 'cka': 0.4137018322944641, 'eps-orth-vectors': 1112, 'kernel_frob': 60.410377502441406}\n"
     ]
    },
    {
     "name": "stderr",
     "output_type": "stream",
     "text": [
      "Epoch 6:  48%|████▊     | 38/79 [00:51<01:15,  1.83s/it]"
     ]
    },
    {
     "name": "stdout",
     "output_type": "stream",
     "text": [
      "{'shape': 143.398193359375, 'cka': 0.4152865409851074, 'eps-orth-vectors': 0, 'kernel_frob': 62.014198303222656}\n"
     ]
    },
    {
     "name": "stderr",
     "output_type": "stream",
     "text": [
      "Epoch 6:  49%|████▉     | 39/79 [00:54<01:25,  2.13s/it]"
     ]
    },
    {
     "name": "stdout",
     "output_type": "stream",
     "text": [
      "{'shape': 147.939453125, 'cka': 0.4154747724533081, 'eps-orth-vectors': 0, 'kernel_frob': 62.57140350341797}\n"
     ]
    },
    {
     "name": "stderr",
     "output_type": "stream",
     "text": [
      "Epoch 6:  51%|█████     | 40/79 [00:57<01:30,  2.33s/it]"
     ]
    },
    {
     "name": "stdout",
     "output_type": "stream",
     "text": [
      "{'shape': 143.77490234375, 'cka': 0.4122428297996521, 'eps-orth-vectors': 0, 'kernel_frob': 63.319114685058594}\n"
     ]
    },
    {
     "name": "stderr",
     "output_type": "stream",
     "text": [
      "Epoch 6:  52%|█████▏    | 41/79 [00:59<01:34,  2.48s/it]"
     ]
    },
    {
     "name": "stdout",
     "output_type": "stream",
     "text": [
      "{'shape': 146.685791015625, 'cka': 0.40657758712768555, 'eps-orth-vectors': 0, 'kernel_frob': 64.39557647705078}\n"
     ]
    },
    {
     "name": "stderr",
     "output_type": "stream",
     "text": [
      "Epoch 6:  53%|█████▎    | 42/79 [01:02<01:35,  2.58s/it]"
     ]
    },
    {
     "name": "stdout",
     "output_type": "stream",
     "text": [
      "{'shape': 152.68115234375, 'cka': 0.4177062511444092, 'eps-orth-vectors': 0, 'kernel_frob': 65.16549682617188}\n"
     ]
    },
    {
     "name": "stderr",
     "output_type": "stream",
     "text": [
      "Epoch 6:  54%|█████▍    | 43/79 [01:05<01:35,  2.66s/it]"
     ]
    },
    {
     "name": "stdout",
     "output_type": "stream",
     "text": [
      "{'shape': 138.72900390625, 'cka': 0.41348981857299805, 'eps-orth-vectors': 0, 'kernel_frob': 60.18782043457031}\n"
     ]
    },
    {
     "name": "stderr",
     "output_type": "stream",
     "text": [
      "Epoch 6:  56%|█████▌    | 44/79 [01:08<01:34,  2.70s/it]"
     ]
    },
    {
     "name": "stdout",
     "output_type": "stream",
     "text": [
      "{'shape': 143.45751953125, 'cka': 0.418498694896698, 'eps-orth-vectors': 0, 'kernel_frob': 62.34162521362305}\n"
     ]
    },
    {
     "name": "stderr",
     "output_type": "stream",
     "text": [
      "Epoch 6:  57%|█████▋    | 45/79 [01:11<01:33,  2.74s/it]"
     ]
    },
    {
     "name": "stdout",
     "output_type": "stream",
     "text": [
      "{'shape': 143.4130859375, 'cka': 0.40957051515579224, 'eps-orth-vectors': 0, 'kernel_frob': 62.8845100402832}\n"
     ]
    },
    {
     "name": "stderr",
     "output_type": "stream",
     "text": [
      "Epoch 6:  58%|█████▊    | 46/79 [01:13<01:31,  2.76s/it]"
     ]
    },
    {
     "name": "stdout",
     "output_type": "stream",
     "text": [
      "{'shape': 133.832275390625, 'cka': 0.41047149896621704, 'eps-orth-vectors': 0, 'kernel_frob': 59.17643737792969}\n"
     ]
    },
    {
     "name": "stderr",
     "output_type": "stream",
     "text": [
      "Epoch 6:  59%|█████▉    | 47/79 [01:16<01:28,  2.78s/it]"
     ]
    },
    {
     "name": "stdout",
     "output_type": "stream",
     "text": [
      "{'shape': 144.8671875, 'cka': 0.4162530303001404, 'eps-orth-vectors': 0, 'kernel_frob': 62.95224380493164}\n"
     ]
    },
    {
     "name": "stderr",
     "output_type": "stream",
     "text": [
      "Epoch 6:  61%|██████    | 48/79 [01:19<01:26,  2.79s/it]"
     ]
    },
    {
     "name": "stdout",
     "output_type": "stream",
     "text": [
      "{'shape': 144.01904296875, 'cka': 0.4200577735900879, 'eps-orth-vectors': 0, 'kernel_frob': 63.00102996826172}\n"
     ]
    },
    {
     "name": "stderr",
     "output_type": "stream",
     "text": [
      "Epoch 6:  61%|██████    | 48/79 [01:21<00:52,  1.69s/it]\n"
     ]
    },
    {
     "ename": "KeyboardInterrupt",
     "evalue": "",
     "output_type": "error",
     "traceback": [
      "\u001b[0;31m---------------------------------------------------------------------------\u001b[0m",
      "\u001b[0;31mKeyboardInterrupt\u001b[0m                         Traceback (most recent call last)",
      "Cell \u001b[0;32mIn[58], line 12\u001b[0m\n\u001b[1;32m     10\u001b[0m adj \u001b[38;5;241m=\u001b[39m get_adjc(stud_vec_2_kfrob, \u001b[38;5;241m0.2\u001b[39m)\n\u001b[1;32m     11\u001b[0m loss \u001b[38;5;241m=\u001b[39m get_kernel_frobenius(a,b)\n\u001b[0;32m---> 12\u001b[0m s \u001b[38;5;241m=\u001b[39m \u001b[43mluby_mis_from_dense\u001b[49m\u001b[43m(\u001b[49m\u001b[38;5;241;43m1\u001b[39;49m\u001b[38;5;241;43m-\u001b[39;49m\u001b[43madj\u001b[49m\u001b[43m)\u001b[49m\n\u001b[1;32m     13\u001b[0m \u001b[38;5;28mprint\u001b[39m({\u001b[38;5;124m\"\u001b[39m\u001b[38;5;124mshape\u001b[39m\u001b[38;5;124m\"\u001b[39m: shape\u001b[38;5;241m.\u001b[39mitem(), \u001b[38;5;124m\"\u001b[39m\u001b[38;5;124mcka\u001b[39m\u001b[38;5;124m\"\u001b[39m:ck\u001b[38;5;241m.\u001b[39mitem(), \u001b[38;5;124m\"\u001b[39m\u001b[38;5;124meps-orth-vectors\u001b[39m\u001b[38;5;124m\"\u001b[39m: \u001b[38;5;28mlen\u001b[39m(s), \u001b[38;5;124m\"\u001b[39m\u001b[38;5;124mkernel_frob\u001b[39m\u001b[38;5;124m\"\u001b[39m: loss\u001b[38;5;241m.\u001b[39mitem()})\n\u001b[1;32m     14\u001b[0m wandb\u001b[38;5;241m.\u001b[39mlog( {\u001b[38;5;124m\"\u001b[39m\u001b[38;5;124mshape\u001b[39m\u001b[38;5;124m\"\u001b[39m: shape\u001b[38;5;241m.\u001b[39mitem(), \u001b[38;5;124m\"\u001b[39m\u001b[38;5;124mcka\u001b[39m\u001b[38;5;124m\"\u001b[39m:ck\u001b[38;5;241m.\u001b[39mitem(), \u001b[38;5;124m\"\u001b[39m\u001b[38;5;124meps-orth-vectors\u001b[39m\u001b[38;5;124m\"\u001b[39m: \u001b[38;5;28mlen\u001b[39m(s), \u001b[38;5;124m\"\u001b[39m\u001b[38;5;124mkernel_frob\u001b[39m\u001b[38;5;124m\"\u001b[39m: loss\u001b[38;5;241m.\u001b[39mitem()})\n",
      "Cell \u001b[0;32mIn[10], line 29\u001b[0m, in \u001b[0;36mluby_mis_from_dense\u001b[0;34m(adj_dense, max_iters, device)\u001b[0m\n\u001b[1;32m     26\u001b[0m priorities[\u001b[38;5;241m~\u001b[39mremaining] \u001b[38;5;241m=\u001b[39m \u001b[38;5;241m-\u001b[39m\u001b[38;5;241m1e9\u001b[39m  \u001b[38;5;66;03m# Effectively ignore these\u001b[39;00m\n\u001b[1;32m     28\u001b[0m \u001b[38;5;66;03m# Compute max neighbor priority\u001b[39;00m\n\u001b[0;32m---> 29\u001b[0m neighbor_max \u001b[38;5;241m=\u001b[39m \u001b[43mtorch\u001b[49m\u001b[38;5;241;43m.\u001b[39;49m\u001b[43msparse\u001b[49m\u001b[38;5;241;43m.\u001b[39;49m\u001b[43mmm\u001b[49m\u001b[43m(\u001b[49m\u001b[43madj_sparse\u001b[49m\u001b[43m,\u001b[49m\u001b[43m \u001b[49m\u001b[43mpriorities\u001b[49m\u001b[38;5;241;43m.\u001b[39;49m\u001b[43munsqueeze\u001b[49m\u001b[43m(\u001b[49m\u001b[38;5;241;43m1\u001b[39;49m\u001b[43m)\u001b[49m\u001b[43m)\u001b[49m\u001b[38;5;241m.\u001b[39msqueeze(\u001b[38;5;241m1\u001b[39m)\n\u001b[1;32m     31\u001b[0m selected \u001b[38;5;241m=\u001b[39m (priorities \u001b[38;5;241m>\u001b[39m neighbor_max) \u001b[38;5;241m&\u001b[39m remaining\n\u001b[1;32m     32\u001b[0m in_set[selected] \u001b[38;5;241m=\u001b[39m \u001b[38;5;28;01mTrue\u001b[39;00m\n",
      "\u001b[0;31mKeyboardInterrupt\u001b[0m: "
     ]
    }
   ],
   "source": [
    "stud_vec_2_kfrob, dataset_kfrob = copy_and_clone(stud_vecs)\n",
    "dl = DataLoader(dataset_kfrob, batch_size=256, shuffle=False)\n",
    "optim = torch.optim.AdamW([stud_vec_2_kfrob])\n",
    "wandb.init(project=\"linear_combo_2\", entity=\"pj-runs\", name=\"kfrob\")\n",
    "for epoch in range(10):\n",
    "    for batch in tqdm(dl, desc=f\"Epoch {epoch+1}\"):\n",
    "        a,b = batch\n",
    "        ck = 1- (cka(b.unsqueeze(1), a.unsqueeze(1)))\n",
    "        shape = lin(b.unsqueeze(1),  a.unsqueeze(1))\n",
    "        adj = get_adjc(stud_vec_2_kfrob, 0.2)\n",
    "        loss = get_kernel_frobenius(a,b)\n",
    "        s = luby_mis_from_dense(1-adj)\n",
    "        print({\"shape\": shape.item(), \"cka\":ck.item(), \"eps-orth-vectors\": len(s), \"kernel_frob\": loss.item()})\n",
    "        wandb.log( {\"shape\": shape.item(), \"cka\":ck.item(), \"eps-orth-vectors\": len(s), \"kernel_frob\": loss.item()})\n",
    "        loss.backward(retain_graph=True)\n",
    "        optim.step()\n",
    "        optim.zero_grad()\n",
    "wandb.finish()"
   ]
  },
  {
   "cell_type": "code",
   "execution_count": 64,
   "id": "d2189e2b-ad8e-4592-9f61-3923ca1fc946",
   "metadata": {},
   "outputs": [
    {
     "data": {
      "text/plain": [
       "tensor([1.2220, 1.2900, 1.1977,  ..., 1.2642, 1.2866, 1.2407],\n",
       "       grad_fn=<LinalgVectorNormBackward0>)"
      ]
     },
     "execution_count": 64,
     "metadata": {},
     "output_type": "execute_result"
    }
   ],
   "source": [
    "stud_vec_2_kfrob.norm(dim=1)"
   ]
  },
  {
   "cell_type": "code",
   "execution_count": null,
   "id": "b85dac2d-e2d6-4091-84db-4bdf4d4ae166",
   "metadata": {},
   "outputs": [],
   "source": [
    "wandb.finish()"
   ]
  },
  {
   "cell_type": "code",
   "execution_count": 63,
   "id": "e7523c9a-bca0-44b3-b895-5e88a59d664b",
   "metadata": {},
   "outputs": [
    {
     "data": {
      "text/plain": [
       "False"
      ]
     },
     "execution_count": 63,
     "metadata": {},
     "output_type": "execute_result"
    }
   ],
   "source": [
    "X_t.requires_grad"
   ]
  },
  {
   "cell_type": "code",
   "execution_count": 58,
   "id": "bfefd5d0-848f-4081-a45c-3fca3ab60dc4",
   "metadata": {},
   "outputs": [
    {
     "data": {
      "text/plain": [
       "True"
      ]
     },
     "execution_count": 58,
     "metadata": {},
     "output_type": "execute_result"
    }
   ],
   "source": [
    "stud_vecs.requires_grad"
   ]
  },
  {
   "cell_type": "code",
   "execution_count": null,
   "id": "8554c269-4340-4422-be28-666c20bddd5a",
   "metadata": {},
   "outputs": [],
   "source": []
  }
 ],
 "metadata": {
  "kernelspec": {
   "display_name": "GPU",
   "language": "python",
   "name": "gpu"
  },
  "language_info": {
   "codemirror_mode": {
    "name": "ipython",
    "version": 3
   },
   "file_extension": ".py",
   "mimetype": "text/x-python",
   "name": "python",
   "nbconvert_exporter": "python",
   "pygments_lexer": "ipython3",
   "version": "3.10.12"
  }
 },
 "nbformat": 4,
 "nbformat_minor": 5
}
