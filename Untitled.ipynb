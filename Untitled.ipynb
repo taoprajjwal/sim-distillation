{
 "cells": [
  {
   "cell_type": "code",
   "execution_count": 1,
   "id": "7a1c1b13-6141-4560-a28e-e2ca0287732b",
   "metadata": {},
   "outputs": [
    {
     "name": "stderr",
     "output_type": "stream",
     "text": [
      "/home/pb2276/.conda/envs/gpu/lib/python3.10/site-packages/tqdm/auto.py:21: TqdmWarning: IProgress not found. Please update jupyter and ipywidgets. See https://ipywidgets.readthedocs.io/en/stable/user_install.html\n",
      "  from .autonotebook import tqdm as notebook_tqdm\n"
     ]
    }
   ],
   "source": [
    "from transformers import (\n",
    "    AutoModelForSequenceClassification,\n",
    "    AutoTokenizer,\n",
    "    AutoConfig,\n",
    "    TrainingArguments,\n",
    "    Trainer,PretrainedConfig,\n",
    "    DataCollatorWithPadding,\n",
    "    default_data_collator\n",
    "\n",
    ")\n",
    "from datasets import load_dataset\n",
    "import evaluate\n",
    "from distillation import DistilModel\n",
    "import torch"
   ]
  },
  {
   "cell_type": "code",
   "execution_count": 2,
   "id": "f206bf70-3ea7-461f-a850-948e4467cd38",
   "metadata": {},
   "outputs": [],
   "source": [
    "teacher=AutoModelForSequenceClassification.from_pretrained(\"/scratch/pb2276/GLUE-pretrain/out_l/cola\")"
   ]
  },
  {
   "cell_type": "code",
   "execution_count": 3,
   "id": "171bbdad-4d63-4ec3-a115-145bfae1a853",
   "metadata": {},
   "outputs": [],
   "source": [
    "student=AutoModelForSequenceClassification.from_pretrained(\"/scratch/pb2276/GLUE-pretrain/out/cola\")"
   ]
  },
  {
   "cell_type": "code",
   "execution_count": 362,
   "id": "01088247-ea12-4fa2-867a-ae9e000b17d8",
   "metadata": {},
   "outputs": [],
   "source": [
    "student2=AutoModelForSequenceClassification.from_pretrained(\"/scratch/pb2276/GLUE-pretrain/out_p2/rte/checkpoint-100\")"
   ]
  },
  {
   "cell_type": "code",
   "execution_count": 366,
   "id": "258b32a0-c69b-4a2c-8982-36e6e25ac8a8",
   "metadata": {},
   "outputs": [],
   "source": [
    "task_name=\"rte\""
   ]
  },
  {
   "cell_type": "code",
   "execution_count": 368,
   "id": "3f67ecb6-13bd-46e8-af45-67acb1751a78",
   "metadata": {},
   "outputs": [],
   "source": [
    "tokenizer = AutoTokenizer.from_pretrained(\"/scratch/pb2276/GLUE-pretrain/out_p2/rte\")"
   ]
  },
  {
   "cell_type": "code",
   "execution_count": 369,
   "id": "ec647bee-95c6-4386-8802-50d8d4c55542",
   "metadata": {},
   "outputs": [],
   "source": [
    "raw_datasets = load_dataset(\n",
    "            \"nyu-mll/glue\",\n",
    "            task_name)"
   ]
  },
  {
   "cell_type": "code",
   "execution_count": 370,
   "id": "53156dcc-28a2-45bd-b57a-ad2ca7a20630",
   "metadata": {},
   "outputs": [],
   "source": [
    "is_regression = task_name == \"stsb\"\n",
    "if not is_regression:\n",
    "    label_list = raw_datasets[\"train\"].features[\"label\"].names\n",
    "    num_labels = len(label_list)\n",
    "else:\n",
    "    num_labels = 1"
   ]
  },
  {
   "cell_type": "code",
   "execution_count": 371,
   "id": "c7d5f3b0-5d3b-4782-b554-df6b145eaca9",
   "metadata": {},
   "outputs": [],
   "source": [
    "task_to_keys = {\n",
    "    \"cola\": (\"sentence\", None),\n",
    "    \"mnli\": (\"premise\", \"hypothesis\"),\n",
    "    \"mrpc\": (\"sentence1\", \"sentence2\"),\n",
    "    \"qnli\": (\"question\", \"sentence\"),\n",
    "    \"qqp\": (\"question1\", \"question2\"),\n",
    "    \"rte\": (\"sentence1\", \"sentence2\"),\n",
    "    \"sst2\": (\"sentence\", None),\n",
    "    \"stsb\": (\"sentence1\", \"sentence2\"),\n",
    "    \"wnli\": (\"sentence1\", \"sentence2\"),\n",
    "}\n",
    "sentence1_key, sentence2_key = task_to_keys[task_name]"
   ]
  },
  {
   "cell_type": "code",
   "execution_count": 372,
   "id": "26e3c4ff-61da-433b-94e3-1d305d9be242",
   "metadata": {},
   "outputs": [],
   "source": [
    "padding = \"max_length\""
   ]
  },
  {
   "cell_type": "code",
   "execution_count": 373,
   "id": "892b3417-e65d-4f7c-b677-b2aeb2d4a14a",
   "metadata": {},
   "outputs": [],
   "source": [
    "max_seq_length = 128"
   ]
  },
  {
   "cell_type": "code",
   "execution_count": 374,
   "id": "b3d96866-bb98-4149-97fc-d0ca043a8854",
   "metadata": {},
   "outputs": [
    {
     "data": {
      "text/plain": [
       "DatasetDict({\n",
       "    train: Dataset({\n",
       "        features: ['sentence1', 'sentence2', 'label', 'idx'],\n",
       "        num_rows: 2490\n",
       "    })\n",
       "    validation: Dataset({\n",
       "        features: ['sentence1', 'sentence2', 'label', 'idx'],\n",
       "        num_rows: 277\n",
       "    })\n",
       "    test: Dataset({\n",
       "        features: ['sentence1', 'sentence2', 'label', 'idx'],\n",
       "        num_rows: 3000\n",
       "    })\n",
       "})"
      ]
     },
     "execution_count": 374,
     "metadata": {},
     "output_type": "execute_result"
    }
   ],
   "source": [
    "raw_datasets"
   ]
  },
  {
   "cell_type": "code",
   "execution_count": 375,
   "id": "f48b2e53-b247-4c0a-ad4e-9dee3f5b9d4a",
   "metadata": {},
   "outputs": [],
   "source": [
    "def preprocess_function(examples):\n",
    "        # Tokenize the texts\n",
    "        args = (\n",
    "            (examples[sentence1_key],) if sentence2_key is None else (examples[sentence1_key], examples[sentence2_key])\n",
    "        )\n",
    "        result = tokenizer(*args, padding=padding, max_length=max_seq_length, truncation=True,return_tensors=\"pt\")\n",
    "        return result"
   ]
  },
  {
   "cell_type": "code",
   "execution_count": 376,
   "id": "cb323ae3-761e-4348-846d-3134bac9a277",
   "metadata": {},
   "outputs": [
    {
     "name": "stderr",
     "output_type": "stream",
     "text": [
      "Running tokenizer on dataset: 100%|██████████| 2490/2490 [00:00<00:00, 7444.08 examples/s]\n",
      "Running tokenizer on dataset: 100%|██████████| 277/277 [00:00<00:00, 6110.96 examples/s]\n",
      "Running tokenizer on dataset: 100%|██████████| 3000/3000 [00:00<00:00, 7807.18 examples/s]\n"
     ]
    }
   ],
   "source": [
    "raw_datasets = raw_datasets.map(\n",
    "            preprocess_function,\n",
    "            batched=True,\n",
    "            desc=\"Running tokenizer on dataset\")\n",
    "raw_datasets.set_format(\"pt\", columns=[\"input_ids\",\"token_type_ids\",\"attention_mask\", \"label\"], output_all_columns=False)"
   ]
  },
  {
   "cell_type": "code",
   "execution_count": 15,
   "id": "2c84eb9f-edcc-414d-ba9d-895ffa193505",
   "metadata": {},
   "outputs": [],
   "source": [
    "from distillation import DistillationLoss, DistilTrainer"
   ]
  },
  {
   "cell_type": "code",
   "execution_count": 16,
   "id": "24d818e1-1b2f-4694-b21b-be75befe7980",
   "metadata": {},
   "outputs": [],
   "source": [
    "l=DistillationLoss(similarity_measure=\"cka\", align_match=[[3, 6], [6, 12]])"
   ]
  },
  {
   "cell_type": "code",
   "execution_count": 21,
   "id": "7f497627-e516-4ec2-8732-8178f2715df6",
   "metadata": {},
   "outputs": [],
   "source": [
    "data_collator = default_data_collator"
   ]
  },
  {
   "cell_type": "code",
   "execution_count": 18,
   "id": "6e217080-3714-450e-9326-2f9cadea3694",
   "metadata": {},
   "outputs": [],
   "source": [
    "training_args=TrainingArguments(output_dir=\"tmp\", remove_unused_columns=False, \n",
    "                                do_train=True, do_eval=True, logging_strategy=\"epoch\",eval_strategy =\"epoch\",  \n",
    "                                label_names=[\"labels\"], resume_from_checkpoint=True, \n",
    "                               )"
   ]
  },
  {
   "cell_type": "code",
   "execution_count": 19,
   "id": "477fc6c2-4cfd-4cb1-9db9-e4cc37c145de",
   "metadata": {},
   "outputs": [],
   "source": [
    "if task_name is not None:\n",
    "    metric = evaluate.load(\"glue\",task_name)\n",
    "elif is_regression:\n",
    "    metric = evaluate.load(\"mse\")\n",
    "else:\n",
    "    metric = evaluate.load(\"accuracy\")\n",
    "\n",
    "import numpy as np\n",
    "\n",
    "# You can define your custom compute_metrics function. It takes an `EvalPrediction` object (a namedtuple with a\n",
    "# predictions and label_ids field) and has to return a dictionary string to float.\n",
    "def compute_metrics(p):\n",
    "    preds = p.predictions[0] if isinstance(p.predictions, tuple) else p.predictions\n",
    "    preds = np.squeeze(preds) if is_regression else np.argmax(preds, axis=1)\n",
    "    result = metric.compute(predictions=preds, references=p.label_ids)\n",
    "    if len(result) > 1:\n",
    "        result[\"combined_score\"] = np.mean(list(result.values())).item()\n",
    "    return result"
   ]
  },
  {
   "cell_type": "code",
   "execution_count": 20,
   "id": "9ed48def-8f7a-4797-861f-c4422ccaf799",
   "metadata": {},
   "outputs": [
    {
     "name": "stderr",
     "output_type": "stream",
     "text": [
      "Detected kernel version 4.18.0, which is below the recommended minimum of 5.5.0; this can cause the process to hang. It is recommended to upgrade the kernel to the minimum version or higher.\n"
     ]
    }
   ],
   "source": [
    "trainer=DistilTrainer(student_model=student, teacher_model=teacher, loss_fn=l, \n",
    "                      train_dataset= raw_datasets[\"train\"].select(range(10)), eval_dataset = raw_datasets[\"validation\"].select(range(5)), \n",
    "                      data_collator=default_data_collator, args=training_args,compute_metrics=compute_metrics)"
   ]
  },
  {
   "cell_type": "code",
   "execution_count": null,
   "id": "707f9341-274d-40a4-88b4-e7cf67b18052",
   "metadata": {},
   "outputs": [],
   "source": [
    "s=trainer.predict(raw_datasets[\"validation\"].select(range(10)))"
   ]
  },
  {
   "cell_type": "code",
   "execution_count": null,
   "id": "d3134abc-b7fe-4c95-ad4d-5c1e72eb454a",
   "metadata": {},
   "outputs": [],
   "source": [
    "s"
   ]
  },
  {
   "cell_type": "code",
   "execution_count": null,
   "id": "80b83d7c-5342-4ae4-9da8-3522ce846a48",
   "metadata": {},
   "outputs": [],
   "source": [
    "trainer.train()"
   ]
  },
  {
   "cell_type": "code",
   "execution_count": 43,
   "id": "6fe5bb44-f207-46cd-9f0c-e84ca93a5bce",
   "metadata": {},
   "outputs": [],
   "source": [
    "s2=trainer.predict(raw_datasets[\"validation\"].select(range(10)))"
   ]
  },
  {
   "cell_type": "code",
   "execution_count": null,
   "id": "b1dcbc9e-3292-4570-92bf-912139074dfa",
   "metadata": {},
   "outputs": [],
   "source": [
    "s2"
   ]
  },
  {
   "cell_type": "code",
   "execution_count": null,
   "id": "2c5f7574-dd7a-4810-bbc6-d29ec30887f0",
   "metadata": {},
   "outputs": [],
   "source": [
    "s2.predictions[1]"
   ]
  },
  {
   "cell_type": "code",
   "execution_count": null,
   "id": "8a5bb6bb-b36b-4dca-8bfb-a6c59ca64f94",
   "metadata": {},
   "outputs": [],
   "source": [
    "s.predictions[1]"
   ]
  },
  {
   "cell_type": "code",
   "execution_count": 38,
   "id": "f3e72aa1-6988-45a8-8c6e-8afcaf2262c0",
   "metadata": {},
   "outputs": [],
   "source": [
    "f=raw_datasets[\"validation\"].select(range(10))"
   ]
  },
  {
   "cell_type": "code",
   "execution_count": null,
   "id": "0048cf37-8766-4c60-8903-9bbdb088d77f",
   "metadata": {},
   "outputs": [],
   "source": [
    "f[:10]"
   ]
  },
  {
   "cell_type": "code",
   "execution_count": 47,
   "id": "b4a14c6c-bb2f-4de7-ab09-c828c28dd372",
   "metadata": {},
   "outputs": [],
   "source": [
    "ff=raw_datasets.remove_columns([\"label\"])"
   ]
  },
  {
   "cell_type": "code",
   "execution_count": 50,
   "id": "45b405b3-a6bd-49be-ae4b-05faad206562",
   "metadata": {},
   "outputs": [],
   "source": [
    "student2=AutoModelForSequenceClassification.from_pretrained(\"/scratch/pb2276/GLUE-pretrain/out/cola\")"
   ]
  },
  {
   "cell_type": "code",
   "execution_count": 51,
   "id": "5ec7e472-8f62-4af3-a0c8-c4bf26c2b2f0",
   "metadata": {},
   "outputs": [],
   "source": [
    "test_out = student2(**ff[\"validation\"][:10])"
   ]
  },
  {
   "cell_type": "code",
   "execution_count": null,
   "id": "43f053f0-d58b-4b90-ae2e-e99a9fd20fba",
   "metadata": {},
   "outputs": [],
   "source": [
    "test_out"
   ]
  },
  {
   "cell_type": "code",
   "execution_count": 64,
   "id": "a715dc8e-d6fb-4048-92ef-bda41fd0db67",
   "metadata": {},
   "outputs": [
    {
     "data": {
      "text/plain": [
       "array([[-3.1297874 ,  1.8954954 ],\n",
       "       [-2.9468465 ,  1.7077515 ],\n",
       "       [-3.102969  ,  1.9307866 ],\n",
       "       [-2.1478105 ,  0.9368223 ],\n",
       "       [ 2.755     , -1.5207777 ],\n",
       "       [-2.515923  ,  1.3795925 ],\n",
       "       [-1.239342  ,  0.9594818 ],\n",
       "       [-0.19918849,  0.29507843],\n",
       "       [-3.1980803 ,  1.8948785 ],\n",
       "       [-3.3853219 ,  2.239891  ]], dtype=float32)"
      ]
     },
     "execution_count": 64,
     "metadata": {},
     "output_type": "execute_result"
    }
   ],
   "source": [
    "s.predictions[0]"
   ]
  },
  {
   "cell_type": "code",
   "execution_count": 55,
   "id": "a31e4bb4-8432-4bb3-831d-e9e8f67a4976",
   "metadata": {},
   "outputs": [
    {
     "data": {
      "text/plain": [
       "array([[-3.2961469,  2.099805 ],\n",
       "       [-3.0494585,  1.8269999],\n",
       "       [-3.253298 ,  2.065838 ],\n",
       "       [-3.048266 ,  1.8305788],\n",
       "       [-2.209058 ,  1.7699184],\n",
       "       [-2.8450418,  1.6309398],\n",
       "       [-3.53449  ,  2.3524985],\n",
       "       [-3.3218148,  2.1642723],\n",
       "       [-3.0117486,  1.7694576],\n",
       "       [-3.5312912,  2.374811 ]], dtype=float32)"
      ]
     },
     "execution_count": 55,
     "metadata": {},
     "output_type": "execute_result"
    }
   ],
   "source": [
    "s2.predictions[0]"
   ]
  },
  {
   "cell_type": "code",
   "execution_count": 57,
   "id": "5e284a77-42f7-454c-aa1a-7dd1a07592eb",
   "metadata": {},
   "outputs": [],
   "source": [
    "updated_student= trainer.model.student_model"
   ]
  },
  {
   "cell_type": "code",
   "execution_count": 60,
   "id": "89f6e076-daaf-44e7-9e3d-00548f012375",
   "metadata": {},
   "outputs": [],
   "source": [
    "\n",
    "updated_student=updated_student.to(torch.device(\"cpu\"))"
   ]
  },
  {
   "cell_type": "code",
   "execution_count": 62,
   "id": "1f7227e4-97bf-4017-a09b-ce0ce25be662",
   "metadata": {},
   "outputs": [],
   "source": [
    "s3=updated_student(**ff[\"validation\"][:10])"
   ]
  },
  {
   "cell_type": "code",
   "execution_count": 63,
   "id": "6eb3ebfc-e2f6-4f4d-a9a0-27e447a40e7e",
   "metadata": {},
   "outputs": [
    {
     "data": {
      "text/plain": [
       "SequenceClassifierOutput(loss=None, logits=tensor([[-3.2961,  2.0998],\n",
       "        [-3.0495,  1.8270],\n",
       "        [-3.2533,  2.0658],\n",
       "        [-3.0483,  1.8306],\n",
       "        [-2.2091,  1.7699],\n",
       "        [-2.8450,  1.6309],\n",
       "        [-3.5345,  2.3525],\n",
       "        [-3.3218,  2.1643],\n",
       "        [-3.0117,  1.7695],\n",
       "        [-3.5313,  2.3748]], grad_fn=<AddmmBackward0>), hidden_states=None, attentions=None)"
      ]
     },
     "execution_count": 63,
     "metadata": {},
     "output_type": "execute_result"
    }
   ],
   "source": [
    "s3"
   ]
  },
  {
   "cell_type": "code",
   "execution_count": 65,
   "id": "de40af25-757b-4928-b09b-b22081247b58",
   "metadata": {},
   "outputs": [],
   "source": [
    "trainer.save_model()"
   ]
  },
  {
   "cell_type": "code",
   "execution_count": 66,
   "id": "43065c8a-e1d7-4426-ba6c-0c1b6ae1150f",
   "metadata": {},
   "outputs": [],
   "source": [
    "trainer.save_state()"
   ]
  },
  {
   "cell_type": "markdown",
   "id": "4201f84c-88b1-40a5-8445-e62411a83a83",
   "metadata": {},
   "source": [
    "# Significance"
   ]
  },
  {
   "cell_type": "code",
   "execution_count": 178,
   "id": "e172c843-81e8-49e7-a553-028ad4b8e305",
   "metadata": {},
   "outputs": [],
   "source": [
    "model = DistilModel(student, teacher)"
   ]
  },
  {
   "cell_type": "code",
   "execution_count": 179,
   "id": "fcf6615d-7091-415e-a41b-73dfebbb3b90",
   "metadata": {},
   "outputs": [],
   "source": [
    "import safetensors"
   ]
  },
  {
   "cell_type": "code",
   "execution_count": 549,
   "id": "972116b0-58a9-453d-8b08-268206fc0577",
   "metadata": {},
   "outputs": [
    {
     "data": {
      "text/plain": [
       "(set(), [])"
      ]
     },
     "execution_count": 549,
     "metadata": {},
     "output_type": "execute_result"
    }
   ],
   "source": [
    "safetensors.torch.load_model(model,\"linear_middle_layer/rte/model.safetensors\")"
   ]
  },
  {
   "cell_type": "code",
   "execution_count": 531,
   "id": "677f9c13-3c91-453a-868c-8cc3aba9e668",
   "metadata": {},
   "outputs": [],
   "source": [
    "model2=model.student_model"
   ]
  },
  {
   "cell_type": "code",
   "execution_count": 532,
   "id": "3e9777ba-056d-453b-ab51-72d45d2f7c8a",
   "metadata": {
    "scrolled": true
   },
   "outputs": [],
   "source": [
    "i=0\n",
    "for p1, p2 in zip(student2.parameters(), model2.parameters()):\n",
    "    i+=1\n",
    "    if i == 10:\n",
    "        break"
   ]
  },
  {
   "cell_type": "code",
   "execution_count": null,
   "id": "2fc70c2d-3826-4be4-a03e-75cf050c842f",
   "metadata": {},
   "outputs": [],
   "source": [
    "p1"
   ]
  },
  {
   "cell_type": "code",
   "execution_count": null,
   "id": "7406098e-5291-4265-999e-0b682c05e9fc",
   "metadata": {},
   "outputs": [],
   "source": [
    "p2"
   ]
  },
  {
   "cell_type": "code",
   "execution_count": 550,
   "id": "56553580-cda5-47b0-9728-749ff877e1d3",
   "metadata": {},
   "outputs": [],
   "source": [
    "labels=raw_datasets[\"validation\"][\"label\"].numpy()"
   ]
  },
  {
   "cell_type": "code",
   "execution_count": 551,
   "id": "7b74efee-7ff7-40ab-b57b-a16c9b2bc626",
   "metadata": {},
   "outputs": [
    {
     "data": {
      "text/plain": [
       "277"
      ]
     },
     "execution_count": 551,
     "metadata": {},
     "output_type": "execute_result"
    }
   ],
   "source": [
    "len(labels)"
   ]
  },
  {
   "cell_type": "code",
   "execution_count": 552,
   "id": "6c8f16b2-1d66-4b11-82b2-4e157e8787b2",
   "metadata": {},
   "outputs": [],
   "source": [
    "ff=raw_datasets.remove_columns([\"label\"])"
   ]
  },
  {
   "cell_type": "code",
   "execution_count": 553,
   "id": "ee878363-7205-46f6-a52b-1849ebbbbca4",
   "metadata": {},
   "outputs": [
    {
     "name": "stderr",
     "output_type": "stream",
     "text": [
      "100%|██████████| 3/3 [00:05<00:00,  1.98s/it]\n"
     ]
    }
   ],
   "source": [
    "cka_outputs=[]\n",
    "from tqdm import tqdm\n",
    "for i in tqdm(range(3)):\n",
    "    preds=model2(**ff[\"validation\"][i*100:(i+1)*100])\n",
    "    output=torch.argmax(preds.logits.detach(), dim=1).numpy()\n",
    "    cka_outputs+= list(output)"
   ]
  },
  {
   "cell_type": "code",
   "execution_count": 382,
   "id": "8580cee4-3cdb-4666-91f3-b45d4ee03452",
   "metadata": {},
   "outputs": [
    {
     "name": "stderr",
     "output_type": "stream",
     "text": [
      "100%|██████████| 3/3 [00:06<00:00,  2.19s/it]\n"
     ]
    }
   ],
   "source": [
    "ft_output=[]\n",
    "from tqdm import tqdm\n",
    "for i in tqdm(range(3)):\n",
    "    preds=student2(**ff[\"validation\"][i*100:(i+1)*100])\n",
    "    output=torch.argmax(preds.logits.detach(), dim=1).numpy()\n",
    "    ft_output+= list(output)"
   ]
  },
  {
   "cell_type": "code",
   "execution_count": 517,
   "id": "005ece5d-6066-46ba-8699-fd1ba0fc8f98",
   "metadata": {},
   "outputs": [
    {
     "data": {
      "text/plain": [
       "277"
      ]
     },
     "execution_count": 517,
     "metadata": {},
     "output_type": "execute_result"
    }
   ],
   "source": [
    "import numpy as np\n",
    "len(cka_outputs)"
   ]
  },
  {
   "cell_type": "code",
   "execution_count": 554,
   "id": "6712d6cc-c63c-4323-ada9-16bd313aaa2a",
   "metadata": {},
   "outputs": [],
   "source": [
    "n_cka_correct= np.array(cka_outputs) == labels"
   ]
  },
  {
   "cell_type": "code",
   "execution_count": 555,
   "id": "042e40c6-e3bf-412d-a058-73368b1ff772",
   "metadata": {},
   "outputs": [],
   "source": [
    "n_ft_correct=np.array(ft_output)==labels"
   ]
  },
  {
   "cell_type": "code",
   "execution_count": 556,
   "id": "cce886fc-37a4-4330-99aa-dab0026e499c",
   "metadata": {},
   "outputs": [],
   "source": [
    "both_correct = np.sum( (n_cka_correct * n_cka_correct).astype(int) )"
   ]
  },
  {
   "cell_type": "code",
   "execution_count": 557,
   "id": "1be459e3-cc07-4f60-b160-684994765d09",
   "metadata": {},
   "outputs": [],
   "source": [
    "cka_correct = np.sum( (n_cka_correct * (~n_ft_correct)).astype(int))"
   ]
  },
  {
   "cell_type": "code",
   "execution_count": 558,
   "id": "0893a9ca-e848-4d16-abfe-3e902de479d0",
   "metadata": {},
   "outputs": [],
   "source": [
    "ft_correct = np.sum( (n_ft_correct  * (~n_cka_correct)).astype(int))"
   ]
  },
  {
   "cell_type": "code",
   "execution_count": 559,
   "id": "d6394feb-d2ed-4e98-a2d7-1c0154503b73",
   "metadata": {},
   "outputs": [],
   "source": [
    "both_incorrect = np.sum( (~n_cka_correct * ~n_cka_correct).astype(int) )"
   ]
  },
  {
   "cell_type": "code",
   "execution_count": 560,
   "id": "b55cc766-8c19-45ff-a60f-1ff035c23161",
   "metadata": {},
   "outputs": [
    {
     "data": {
      "text/plain": [
       "311"
      ]
     },
     "execution_count": 560,
     "metadata": {},
     "output_type": "execute_result"
    }
   ],
   "source": [
    "both_incorrect + both_correct + cka_correct +ft_correct"
   ]
  },
  {
   "cell_type": "code",
   "execution_count": 561,
   "id": "e817519b-d0a1-499a-80cb-988c5297f1d7",
   "metadata": {},
   "outputs": [],
   "source": [
    "table=[[both_correct, cka_correct], [ft_correct, both_incorrect]]"
   ]
  },
  {
   "cell_type": "code",
   "execution_count": 562,
   "id": "ce42a7b7-432a-45c6-9bdd-19298558d098",
   "metadata": {},
   "outputs": [
    {
     "name": "stdout",
     "output_type": "stream",
     "text": [
      "[[183, 23], [11, 94]]\n"
     ]
    }
   ],
   "source": [
    "print(table)"
   ]
  },
  {
   "cell_type": "code",
   "execution_count": 563,
   "id": "0e92f08b-9bfb-47a6-85af-0bb46616d52a",
   "metadata": {},
   "outputs": [],
   "source": [
    "from statsmodels.stats.contingency_tables import mcnemar"
   ]
  },
  {
   "cell_type": "code",
   "execution_count": 564,
   "id": "6becac26-526d-4a15-896b-21804a69abd6",
   "metadata": {},
   "outputs": [],
   "source": [
    "result = mcnemar(table, exact=True)"
   ]
  },
  {
   "cell_type": "code",
   "execution_count": 565,
   "id": "e09e8852-2fa7-48cd-86a0-e6e29919e42c",
   "metadata": {},
   "outputs": [
    {
     "data": {
      "text/plain": [
       "0.05761267291381955"
      ]
     },
     "execution_count": 565,
     "metadata": {},
     "output_type": "execute_result"
    }
   ],
   "source": [
    "result.pvalue"
   ]
  },
  {
   "cell_type": "markdown",
   "id": "fa8c0c41-b7b7-484a-bca0-986a4b81fe34",
   "metadata": {},
   "source": [
    "# Ranks etc\n"
   ]
  },
  {
   "cell_type": "code",
   "execution_count": 25,
   "id": "bf9250a6-1ae7-4631-8c54-77d2397333bc",
   "metadata": {},
   "outputs": [],
   "source": [
    "model = DistilModel(student, teacher)"
   ]
  },
  {
   "cell_type": "code",
   "execution_count": 27,
   "id": "a35c3cba-616b-4f6c-b7aa-35651ff69553",
   "metadata": {},
   "outputs": [],
   "source": [
    "student_output, teacher_output = model(**filtered_raw[\"validation\"][:20])"
   ]
  },
  {
   "cell_type": "code",
   "execution_count": 29,
   "id": "664582c0-679e-4397-9071-3b08eb94a0cf",
   "metadata": {},
   "outputs": [],
   "source": [
    "align_student, align_teacher=l(student_output.logits, teacher_output.logits, student_output.hidden_states, teacher_output.hidden_states)"
   ]
  },
  {
   "cell_type": "code",
   "execution_count": 34,
   "id": "7d941d51-658e-414f-aad5-70062420cd91",
   "metadata": {},
   "outputs": [
    {
     "data": {
      "text/plain": [
       "tensor([[ 0.6397,  0.2883, -0.3506,  ...,  0.1039,  0.2825,  0.0324],\n",
       "        [-0.3096,  0.2155,  0.3793,  ..., -0.9359,  0.8348,  0.3450],\n",
       "        [ 0.3856, -0.3995,  0.7752,  ..., -0.3891,  1.5308, -0.1334],\n",
       "        ...,\n",
       "        [ 0.0819, -0.1230, -0.2317,  ..., -0.5294, -0.0580, -0.2894],\n",
       "        [-0.0236, -0.2535, -0.2139,  ..., -0.5686,  0.0900, -0.1302],\n",
       "        [ 0.0441, -0.1422, -0.2268,  ..., -0.7129,  0.0716, -0.1383]],\n",
       "       grad_fn=<SelectBackward0>)"
      ]
     },
     "execution_count": 34,
     "metadata": {},
     "output_type": "execute_result"
    }
   ],
   "source": [
    "align_student[0]"
   ]
  },
  {
   "cell_type": "code",
   "execution_count": 40,
   "id": "8be4c2f0-3691-480f-8ffc-f458a9e4d2e4",
   "metadata": {},
   "outputs": [
    {
     "data": {
      "text/plain": [
       "tensor([128, 128, 128, 128, 128, 128, 128, 128, 128, 128, 128, 128, 128, 128,\n",
       "        128, 128, 128, 128, 128, 128, 128, 128, 128, 128, 128, 128, 128, 128,\n",
       "        128, 128, 128, 128, 128, 128, 128, 128, 128, 128, 128, 128])"
      ]
     },
     "execution_count": 40,
     "metadata": {},
     "output_type": "execute_result"
    }
   ],
   "source": [
    "import torch\n"
   ]
  },
  {
   "cell_type": "code",
   "execution_count": 39,
   "id": "31397acd-17a2-440c-b926-cec6b545628d",
   "metadata": {},
   "outputs": [],
   "source": [
    "align_student=torch.nn.functional.pad(align_student, (0, 1024-768))"
   ]
  },
  {
   "cell_type": "code",
   "execution_count": 43,
   "id": "af403e04-c165-4c45-8694-d8e2740d1319",
   "metadata": {},
   "outputs": [],
   "source": [
    "wxy= torch.bmm(align_student.transpose(1,2), align_teacher)"
   ]
  },
  {
   "cell_type": "code",
   "execution_count": 50,
   "id": "cd010574-6f70-4b5c-a585-fbcb8eb1cb6c",
   "metadata": {},
   "outputs": [],
   "source": [
    "U, _, Vt = torch.linalg.svd(wxy, full_matrices=False)"
   ]
  },
  {
   "cell_type": "code",
   "execution_count": 52,
   "id": "1eb013a6-d504-4eab-937b-724715078f27",
   "metadata": {
    "jupyter": {
     "source_hidden": true
    }
   },
   "outputs": [
    {
     "data": {
      "text/plain": [
       "torch.Size([40, 1024, 1024])"
      ]
     },
     "execution_count": 52,
     "metadata": {},
     "output_type": "execute_result"
    }
   ],
   "source": [
    "Vt.shape"
   ]
  }
 ],
 "metadata": {
  "kernelspec": {
   "display_name": "GPU",
   "language": "python",
   "name": "gpu"
  },
  "language_info": {
   "codemirror_mode": {
    "name": "ipython",
    "version": 3
   },
   "file_extension": ".py",
   "mimetype": "text/x-python",
   "name": "python",
   "nbconvert_exporter": "python",
   "pygments_lexer": "ipython3",
   "version": "3.10.12"
  }
 },
 "nbformat": 4,
 "nbformat_minor": 5
}
